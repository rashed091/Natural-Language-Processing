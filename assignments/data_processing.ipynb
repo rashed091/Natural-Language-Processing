{
 "cells": [
  {
   "cell_type": "code",
   "execution_count": 77,
   "id": "361a1958-fac6-4704-bc07-8610e36ad139",
   "metadata": {},
   "outputs": [],
   "source": [
    "import re\n",
    "import datasets\n",
    "import itertools\n",
    "import time\n",
    "import math\n",
    "import torch\n",
    "import torch.nn.functional as F\n",
    "from torch import nn, Tensor\n",
    "from nltk import ngrams\n",
    "from torch.nn.utils.rnn import pad_sequence, pack_padded_sequence, pad_packed_sequence\n",
    "from torch.utils.data import DataLoader\n",
    "from torchtext.vocab import build_vocab_from_iterator\n",
    "from torch.utils.data.dataset import random_split"
   ]
  },
  {
   "cell_type": "code",
   "execution_count": 2,
   "id": "14680e8a-c36c-4bb2-9683-0e4abfa27ae3",
   "metadata": {},
   "outputs": [
    {
     "name": "stderr",
     "output_type": "stream",
     "text": [
      "Reusing dataset wili_2018 (/home/rashed/.cache/huggingface/datasets/wili_2018/WiLI-2018 dataset/1.1.0/78d7fe4a9d0a01168e45657f302c776ee0afc0978d44e2c3759f4c4975b845f5)\n"
     ]
    },
    {
     "data": {
      "application/vnd.jupyter.widget-view+json": {
       "model_id": "9d721e83226843509d731cc6fd02a8bb",
       "version_major": 2,
       "version_minor": 0
      },
      "text/plain": [
       "  0%|          | 0/2 [00:00<?, ?it/s]"
      ]
     },
     "metadata": {},
     "output_type": "display_data"
    }
   ],
   "source": [
    "dataset = datasets.load_dataset('wili_2018')"
   ]
  },
  {
   "cell_type": "code",
   "execution_count": 3,
   "id": "ceabcfa5-2b8d-4558-bf01-942d1c091883",
   "metadata": {},
   "outputs": [
    {
     "data": {
      "text/plain": [
       "DatasetDict({\n",
       "    train: Dataset({\n",
       "        features: ['sentence', 'label'],\n",
       "        num_rows: 117500\n",
       "    })\n",
       "    test: Dataset({\n",
       "        features: ['sentence', 'label'],\n",
       "        num_rows: 117500\n",
       "    })\n",
       "})"
      ]
     },
     "execution_count": 3,
     "metadata": {},
     "output_type": "execute_result"
    }
   ],
   "source": [
    "dataset"
   ]
  },
  {
   "cell_type": "code",
   "execution_count": 4,
   "id": "28aabf47-9750-482f-9cd5-fba9a7f1a419",
   "metadata": {},
   "outputs": [
    {
     "data": {
      "text/plain": [
       "{'train': (117500, 2), 'test': (117500, 2)}"
      ]
     },
     "execution_count": 4,
     "metadata": {},
     "output_type": "execute_result"
    }
   ],
   "source": [
    "dataset.shape"
   ]
  },
  {
   "cell_type": "code",
   "execution_count": 5,
   "id": "44f11db5-7c21-4e0e-8e49-350fcf0fc137",
   "metadata": {},
   "outputs": [
    {
     "data": {
      "text/plain": [
       "{'train': ['sentence', 'label'], 'test': ['sentence', 'label']}"
      ]
     },
     "execution_count": 5,
     "metadata": {},
     "output_type": "execute_result"
    }
   ],
   "source": [
    "dataset.column_names"
   ]
  },
  {
   "cell_type": "code",
   "execution_count": 7,
   "id": "f4d37839-b09a-4a71-a90a-3656a9603d59",
   "metadata": {},
   "outputs": [],
   "source": [
    "train_dataset = dataset[\"train\"]"
   ]
  },
  {
   "cell_type": "code",
   "execution_count": 8,
   "id": "db8e61f4-32a4-4c1f-97a4-a1480c5fd62a",
   "metadata": {},
   "outputs": [
    {
     "data": {
      "text/plain": [
       "{'sentence': 'Klement Gottwaldi surnukeha palsameeriti ning paigutati mausoleumi. Surnukeha oli aga liiga hilja ja oskamatult palsameeritud ning hakkas ilmutama lagunemise tundemärke. 1962. aastal viidi ta surnukeha mausoleumist ära ja kremeeriti. Zlíni linn kandis aastatel 1949–1989 nime Gottwaldov. Ukrainas Harkivi oblastis kandis Zmiivi linn aastatel 1976–1990 nime Gotvald.',\n",
       " 'label': 112}"
      ]
     },
     "execution_count": 8,
     "metadata": {},
     "output_type": "execute_result"
    }
   ],
   "source": [
    "train_dataset[0]"
   ]
  },
  {
   "cell_type": "code",
   "execution_count": 9,
   "id": "406e7657-b7ae-4c13-878d-f6d1132f6778",
   "metadata": {},
   "outputs": [],
   "source": [
    "# Clean text, tokenize, and create vocabulary from text data\n",
    "punctuations = [\n",
    "    '!', '\"', '#', '$', '%', '&', \"'\", '(', ')', '*', '+', ',', '.',\n",
    "    '/', ':', ';', '<', '=', '>', '?', '@', '[', '\\\\', ']', '^', '_',\n",
    "    '`', '{', '|', '}', '~', '»', '«', '“', '”', \"-\",\n",
    "]\n",
    "\n",
    "def clean_text(text):\n",
    "    text = re.sub(r\"[-_.0-9A-Za-z]+@[-_0-9A-Za-z]+[-_.0-9A-Za-z]+\", \"\", text)\n",
    "    text = re.sub(r\"https?://[-_.?&~;+=/#0-9A-Za-z]+\", \"\", text)\n",
    "    text = re.sub(r\"[\\+\\d]?(\\d{2,3}[-\\.\\s]??\\d{2,3}[-\\.\\s]??\\d{4}|\\(\\d{3}\\)\\s*\\d{3}[-\\.\\s]??\\d{4}|\\d{3}[-\\.\\s]??\\d{4})\", \"\", text)\n",
    "    text = re.sub(r'[~^0-9]', '', text)\n",
    "    text = re.sub(r\"([\" + re.escape(\"\".join(punctuations)) + \"])\", \"\", text)\n",
    "    text = re.sub(r' +', ' ', text)\n",
    "    return text.strip()\n",
    "\n",
    "def tokenizer(text, ngram = 3):\n",
    "    text = clean_text(text)\n",
    "    return [\"\".join(k1) for k1 in list(ngrams(text, n=ngram))]\n",
    "\n",
    "def tokenize_data(example, tokenizer):\n",
    "    tokens = {'tokens': tokenizer(example['sentence'])}\n",
    "    return tokens"
   ]
  },
  {
   "cell_type": "code",
   "execution_count": 10,
   "id": "89b2e0e4-b0af-483b-b035-6287fed4f992",
   "metadata": {},
   "outputs": [
    {
     "data": {
      "application/vnd.jupyter.widget-view+json": {
       "model_id": "851370f6251d4bd1b32eb450f57d46e7",
       "version_major": 2,
       "version_minor": 0
      },
      "text/plain": [
       "  0%|          | 0/117500 [00:00<?, ?ex/s]"
      ]
     },
     "metadata": {},
     "output_type": "display_data"
    },
    {
     "data": {
      "application/vnd.jupyter.widget-view+json": {
       "model_id": "c4ebee5cffa14da686404b0be72fb1fc",
       "version_major": 2,
       "version_minor": 0
      },
      "text/plain": [
       "  0%|          | 0/117500 [00:00<?, ?ex/s]"
      ]
     },
     "metadata": {},
     "output_type": "display_data"
    }
   ],
   "source": [
    "tokenized_dataset = dataset.map(tokenize_data, remove_columns=['sentence'], fn_kwargs={'tokenizer': tokenizer})"
   ]
  },
  {
   "cell_type": "code",
   "execution_count": 12,
   "id": "47b22c3e-bfbe-4a42-9b11-ffc52113ace6",
   "metadata": {},
   "outputs": [],
   "source": [
    "#tokenized_dataset['train'][0]"
   ]
  },
  {
   "cell_type": "code",
   "execution_count": 13,
   "id": "b4e4d5c4-6e09-41c2-af58-392019a22b53",
   "metadata": {},
   "outputs": [],
   "source": [
    "vocab = build_vocab_from_iterator(tokenized_dataset['train']['tokens'], min_freq=3, specials=['<unk>', '<pad>', '<bos>', '<eos>'])\n",
    "\n",
    "PAD_IDX = vocab['<pad>']\n",
    "BOS_IDX = vocab['<bos>']\n",
    "EOS_IDX = vocab['<eos>']\n",
    "UNK_IDX = vocab['<unk>']\n",
    "\n",
    "vocab.set_default_index(UNK_IDX)"
   ]
  },
  {
   "cell_type": "code",
   "execution_count": 14,
   "id": "e3a07b29-739f-4646-982a-603e27019403",
   "metadata": {},
   "outputs": [
    {
     "data": {
      "text/plain": [
       "378076"
      ]
     },
     "execution_count": 14,
     "metadata": {},
     "output_type": "execute_result"
    }
   ],
   "source": [
    "len(vocab)"
   ]
  },
  {
   "cell_type": "code",
   "execution_count": 15,
   "id": "c9e11fe3-1ecd-4c42-908f-7dcb6a557400",
   "metadata": {},
   "outputs": [
    {
     "data": {
      "text/plain": [
       "['<unk>', '<pad>', '<bos>', '<eos>', 'an ', ' de', 'en ', 'de ', 'na ', 'ng ']"
      ]
     },
     "execution_count": 15,
     "metadata": {},
     "output_type": "execute_result"
    }
   ],
   "source": [
    "vocab.get_itos()[:10]"
   ]
  },
  {
   "cell_type": "code",
   "execution_count": 16,
   "id": "5356cf16-5e07-41bd-82b8-30da90de9ac6",
   "metadata": {},
   "outputs": [
    {
     "data": {
      "text/plain": [
       "False"
      ]
     },
     "execution_count": 16,
     "metadata": {},
     "output_type": "execute_result"
    }
   ],
   "source": [
    "'hello' in vocab"
   ]
  },
  {
   "cell_type": "code",
   "execution_count": 17,
   "id": "c7d59104-eee3-4a93-93fd-c3ac1843e9be",
   "metadata": {},
   "outputs": [
    {
     "data": {
      "text/plain": [
       "True"
      ]
     },
     "execution_count": 17,
     "metadata": {},
     "output_type": "execute_result"
    }
   ],
   "source": [
    "'the' in vocab"
   ]
  },
  {
   "cell_type": "code",
   "execution_count": null,
   "id": "db08b2f3-8f15-4c8d-b847-8ba5e690897e",
   "metadata": {},
   "outputs": [
    {
     "name": "stdout",
     "output_type": "stream",
     "text": [
      "here is httpswwwhellocom the an example\n"
     ]
    }
   ],
   "source": [
    "s = '123here `is` https:www.hello.com\\ the [55 an] example rashed091nsu@gmail.com'\n",
    "print(clean_text(s))"
   ]
  },
  {
   "cell_type": "code",
   "execution_count": null,
   "id": "6e509c18-a07e-49b4-97bf-ce59e9f470fa",
   "metadata": {},
   "outputs": [
    {
     "data": {
      "text/plain": [
       "['her',\n",
       " 'ere',\n",
       " 're ',\n",
       " 'e i',\n",
       " ' is',\n",
       " 'is ',\n",
       " 's t',\n",
       " ' th',\n",
       " 'the',\n",
       " 'he ',\n",
       " 'e a',\n",
       " ' an',\n",
       " 'an ',\n",
       " 'n e',\n",
       " ' ex',\n",
       " 'exa',\n",
       " 'xam',\n",
       " 'amp',\n",
       " 'mpl',\n",
       " 'ple']"
      ]
     },
     "execution_count": 19,
     "metadata": {},
     "output_type": "execute_result"
    }
   ],
   "source": [
    "tokenizer('123here is the an example')"
   ]
  },
  {
   "cell_type": "code",
   "execution_count": null,
   "id": "330905d9-3673-4a6f-bdf2-5bf3418073a5",
   "metadata": {},
   "outputs": [],
   "source": [
    "text_pipeline = lambda text: vocab(list(itertools.chain(['<bos>'], tokenizer(text), ['<eos>'])))"
   ]
  },
  {
   "cell_type": "code",
   "execution_count": null,
   "id": "34bade53-0757-4391-8705-3ce61a276e5a",
   "metadata": {},
   "outputs": [
    {
     "data": {
      "text/plain": [
       "[2,\n",
       " 699,\n",
       " 169,\n",
       " 45,\n",
       " 170,\n",
       " 185,\n",
       " 39,\n",
       " 460,\n",
       " 152,\n",
       " 217,\n",
       " 52,\n",
       " 66,\n",
       " 34,\n",
       " 4,\n",
       " 167,\n",
       " 2051,\n",
       " 6986,\n",
       " 7861,\n",
       " 892,\n",
       " 2219,\n",
       " 1806,\n",
       " 3]"
      ]
     },
     "execution_count": 21,
     "metadata": {},
     "output_type": "execute_result"
    }
   ],
   "source": [
    "text_pipeline('123here is the an example')"
   ]
  },
  {
   "cell_type": "code",
   "execution_count": 57,
   "id": "91fac7d7-4aee-4a00-94c6-f00d38b23406",
   "metadata": {},
   "outputs": [],
   "source": [
    "def generate_batch(data):\n",
    "    batch = []\n",
    "    labels = []\n",
    "    seq_list = []\n",
    "    for example in data:\n",
    "        tokens = list(itertools.chain(['<bos>'], example['tokens'], ['<eos>']))\n",
    "        data_tensor = torch.tensor([vocab[token] for token in tokens], dtype=torch.long)\n",
    "        labels.append(example['label'])\n",
    "        seq_list.append(len(example['tokens']))\n",
    "        batch.append(data_tensor)\n",
    "    batch = pad_sequence(batch, batch_first=True, padding_value=PAD_IDX)\n",
    "    labels = torch.tensor(labels, dtype=torch.long)\n",
    "    seq_list = torch.tensor(seq_list, dtype=torch.long)\n",
    "    return batch, labels, seq_list"
   ]
  },
  {
   "cell_type": "code",
   "execution_count": 58,
   "id": "5a7873e3-099e-4a8f-bc91-604fe9b4183c",
   "metadata": {},
   "outputs": [],
   "source": [
    "train_dataset = tokenized_dataset['train']\n",
    "test_dataset = tokenized_dataset['test']"
   ]
  },
  {
   "cell_type": "code",
   "execution_count": 59,
   "id": "75ca476b-12d9-4149-95e0-15002c7be829",
   "metadata": {},
   "outputs": [],
   "source": [
    "num_train = int(len(train_dataset) * 0.75)\n",
    "split_train, split_valid = random_split(train_dataset, [num_train, len(train_dataset) - num_train])"
   ]
  },
  {
   "cell_type": "code",
   "execution_count": 60,
   "id": "617527ad-a68b-46aa-918b-3584c81a72a8",
   "metadata": {},
   "outputs": [],
   "source": [
    "# Hyperparameters\n",
    "EPOCHS = 10 # epoch\n",
    "LR = 5  # learning rate\n",
    "BATCH_SIZE = 128 # batch size for training\n",
    "VOCAB_SIZE = len(vocab) # number of vocabulary\n",
    "EMB_SIZE = 512 # Embedding size\n",
    "HID_DIM = 512 # Hidden dimension\n",
    "NUM_LAYERS = 2 # Number of layers\n",
    "NUM_CLASS = 235 # Number of output classess\n",
    "DROP_RATE = 0.3"
   ]
  },
  {
   "cell_type": "code",
   "execution_count": 61,
   "id": "224441da-70d1-45c0-b4f8-8dc6bbc94812",
   "metadata": {},
   "outputs": [],
   "source": [
    "train_dataloader = DataLoader(split_train, batch_size=BATCH_SIZE, shuffle=False, collate_fn=generate_batch)\n",
    "valid_dataloader = DataLoader(split_valid, batch_size=BATCH_SIZE, shuffle=False, collate_fn=generate_batch)\n",
    "test_dataloader = DataLoader(test_dataset, batch_size=BATCH_SIZE, shuffle=False, collate_fn=generate_batch)"
   ]
  },
  {
   "cell_type": "markdown",
   "id": "32320867-2ba7-4802-9e54-c618333ad58c",
   "metadata": {},
   "source": [
    "# Model"
   ]
  },
  {
   "cell_type": "code",
   "execution_count": 62,
   "id": "7950b495-5de1-4a6d-9374-ee8d03e8cbb2",
   "metadata": {},
   "outputs": [],
   "source": [
    "source, target, seq = next(iter(train_dataloader))"
   ]
  },
  {
   "cell_type": "code",
   "execution_count": 63,
   "id": "521bb4d1-8339-455e-89e7-baca99d4fb1e",
   "metadata": {},
   "outputs": [
    {
     "data": {
      "text/plain": [
       "tensor([[     2, 103974,  16661,  ...,      1,      1,      1],\n",
       "        [     2,   5570,  11789,  ...,      1,      1,      1],\n",
       "        [     2,   2931,    363,  ...,      1,      1,      1],\n",
       "        ...,\n",
       "        [     2,  59677,    171,  ...,      1,      1,      1],\n",
       "        [     2,  37383,  15621,  ...,      1,      1,      1],\n",
       "        [     2,    826,    350,  ...,      1,      1,      1]])"
      ]
     },
     "execution_count": 63,
     "metadata": {},
     "output_type": "execute_result"
    }
   ],
   "source": [
    "source"
   ]
  },
  {
   "cell_type": "code",
   "execution_count": 65,
   "id": "5d6e3ed5-447d-4f25-9f6c-44f446b7a563",
   "metadata": {},
   "outputs": [
    {
     "data": {
      "text/plain": [
       "torch.Size([128, 2363])"
      ]
     },
     "execution_count": 65,
     "metadata": {},
     "output_type": "execute_result"
    }
   ],
   "source": [
    "source.shape"
   ]
  },
  {
   "cell_type": "code",
   "execution_count": 66,
   "id": "dec8c805-0527-49ae-b7be-3126f24a028c",
   "metadata": {},
   "outputs": [
    {
     "data": {
      "text/plain": [
       "tensor([231, 103, 158, 215,  58, 198,  23,  49,  32, 142, 194,   0,  34, 199,\n",
       "         96,  32, 148, 124, 230,  43,  99, 156, 229, 174, 209,  46,  97, 227,\n",
       "        192,  43, 148, 203, 232, 139,  27,  22, 172, 181, 193, 225, 134, 147,\n",
       "        164, 230, 129, 139, 149, 188, 101, 152, 148,  77,  15,  62, 152,  54,\n",
       "        222,  80, 225, 126,   1, 226, 163, 201, 129, 218,  46, 107,  21, 203,\n",
       "        205, 212, 194, 119, 234, 149,  23, 233,  39, 165,  42, 186,  67, 120,\n",
       "         68, 103, 121, 150,   1, 111,  69, 207, 158, 161,  49, 180,  76, 233,\n",
       "         12, 114,  85,  48, 145,  27, 194,  29,  78,  67, 118, 234, 181,  53,\n",
       "        185,  62,   6, 161, 148,  86, 153, 174,  88,  38, 118,  75,  47, 155,\n",
       "         50, 157])"
      ]
     },
     "execution_count": 66,
     "metadata": {},
     "output_type": "execute_result"
    }
   ],
   "source": [
    "target"
   ]
  },
  {
   "cell_type": "code",
   "execution_count": 67,
   "id": "61720aa3-08a5-4f2e-8cbf-055afe05d19a",
   "metadata": {},
   "outputs": [
    {
     "data": {
      "text/plain": [
       "torch.Size([128])"
      ]
     },
     "execution_count": 67,
     "metadata": {},
     "output_type": "execute_result"
    }
   ],
   "source": [
    "target.shape"
   ]
  },
  {
   "cell_type": "code",
   "execution_count": 68,
   "id": "9e3edff5-4d75-4800-82a9-461b21ac594b",
   "metadata": {},
   "outputs": [
    {
     "data": {
      "text/plain": [
       "tensor([ 182,  364,  147,  149,  220,  848,  280,  175,  212,  153,  662,  161,\n",
       "         169,  189,  417,  151,  158,  402,  164,  144,  345,  121,  134,  184,\n",
       "         144,  448,  270, 1257,  137,  247,  388,  164,  241,  297,  205,  194,\n",
       "         182,  200,  182,  172,  355, 1067,  508,  145,  238,  263,  154,  521,\n",
       "         160,  316,  202,  202,  219,  270,  321,  417,  388,  201,  250,  822,\n",
       "         214,  402,  466,  226,  411, 1080,  171,  321,  603,  887,  301,  146,\n",
       "         219,  152,  223,  177,  409,  899,  645,  347,  338,  500,  123,  200,\n",
       "         182, 1764,  661,  139,  150,  208,  344,  599,  379,  271,  381,  125,\n",
       "         124,  172,  350,  266,  211,  160,  124,  136,  176, 1064,  852,  149,\n",
       "         500,  267,  164,  650,  154,  201, 2361,  204,  310,  241,  303,  540,\n",
       "         130,  198,  233,  361,  165,  439,  213,  711])"
      ]
     },
     "execution_count": 68,
     "metadata": {},
     "output_type": "execute_result"
    }
   ],
   "source": [
    "seq"
   ]
  },
  {
   "cell_type": "code",
   "execution_count": 69,
   "id": "37aa5058-beaa-4869-8ec3-cdc436ac6db0",
   "metadata": {},
   "outputs": [
    {
     "data": {
      "text/plain": [
       "torch.Size([128])"
      ]
     },
     "execution_count": 69,
     "metadata": {},
     "output_type": "execute_result"
    }
   ],
   "source": [
    "seq.shape"
   ]
  },
  {
   "cell_type": "code",
   "execution_count": 71,
   "id": "a60adef3-6afd-4952-9eb6-7f6aabe8d434",
   "metadata": {},
   "outputs": [],
   "source": [
    "embed = nn.Embedding(VOCAB_SIZE, EMB_SIZE)\n",
    "lstm = nn.LSTM(EMB_SIZE, HID_DIM, num_layers=NUM_LAYERS, dropout=DROP_RATE, batch_first=True)\n",
    "fc = nn.Linear(HID_DIM, NUM_CLASS)\n",
    "dropout = nn.Dropout(0.3)"
   ]
  },
  {
   "cell_type": "code",
   "execution_count": 72,
   "id": "5a2d5605-32ba-41a8-acda-b1d7acb0e7a9",
   "metadata": {},
   "outputs": [],
   "source": [
    "embedded_seq_tensor = embed(source)"
   ]
  },
  {
   "cell_type": "code",
   "execution_count": 73,
   "id": "d2da37cd-fbb3-4ca1-9ca7-b5976b62b671",
   "metadata": {},
   "outputs": [
    {
     "data": {
      "text/plain": [
       "tensor([[[ 0.4033, -0.0790,  1.5855,  ...,  0.1375,  0.7096, -0.6033],\n",
       "         [-0.6409,  0.7285,  1.3829,  ...,  2.6079, -0.3562, -0.4943],\n",
       "         [ 1.7493, -1.6336,  2.9278,  ..., -0.2729, -0.2803, -1.6111],\n",
       "         ...,\n",
       "         [ 0.6097, -0.0311,  0.3657,  ..., -0.9129,  1.0052, -2.4916],\n",
       "         [ 0.6097, -0.0311,  0.3657,  ..., -0.9129,  1.0052, -2.4916],\n",
       "         [ 0.6097, -0.0311,  0.3657,  ..., -0.9129,  1.0052, -2.4916]],\n",
       "\n",
       "        [[ 0.4033, -0.0790,  1.5855,  ...,  0.1375,  0.7096, -0.6033],\n",
       "         [-0.5635, -0.6191, -0.2675,  ...,  1.0145, -1.6781,  0.9973],\n",
       "         [ 0.2728, -0.8690,  0.1779,  ...,  1.3779,  1.5374, -0.6691],\n",
       "         ...,\n",
       "         [ 0.6097, -0.0311,  0.3657,  ..., -0.9129,  1.0052, -2.4916],\n",
       "         [ 0.6097, -0.0311,  0.3657,  ..., -0.9129,  1.0052, -2.4916],\n",
       "         [ 0.6097, -0.0311,  0.3657,  ..., -0.9129,  1.0052, -2.4916]],\n",
       "\n",
       "        [[ 0.4033, -0.0790,  1.5855,  ...,  0.1375,  0.7096, -0.6033],\n",
       "         [ 0.1665, -2.2465,  0.4283,  ...,  1.1430,  0.8373, -1.3143],\n",
       "         [ 1.0323,  0.0503,  1.3123,  ..., -2.2074, -0.3416, -1.0278],\n",
       "         ...,\n",
       "         [ 0.6097, -0.0311,  0.3657,  ..., -0.9129,  1.0052, -2.4916],\n",
       "         [ 0.6097, -0.0311,  0.3657,  ..., -0.9129,  1.0052, -2.4916],\n",
       "         [ 0.6097, -0.0311,  0.3657,  ..., -0.9129,  1.0052, -2.4916]],\n",
       "\n",
       "        ...,\n",
       "\n",
       "        [[ 0.4033, -0.0790,  1.5855,  ...,  0.1375,  0.7096, -0.6033],\n",
       "         [-0.5056, -0.1725,  0.1176,  ...,  2.1327,  0.0741,  1.0605],\n",
       "         [-1.9645,  0.4603, -1.4782,  ..., -2.4232,  0.0422, -0.0998],\n",
       "         ...,\n",
       "         [ 0.6097, -0.0311,  0.3657,  ..., -0.9129,  1.0052, -2.4916],\n",
       "         [ 0.6097, -0.0311,  0.3657,  ..., -0.9129,  1.0052, -2.4916],\n",
       "         [ 0.6097, -0.0311,  0.3657,  ..., -0.9129,  1.0052, -2.4916]],\n",
       "\n",
       "        [[ 0.4033, -0.0790,  1.5855,  ...,  0.1375,  0.7096, -0.6033],\n",
       "         [-0.2732, -0.6528,  0.9181,  ..., -1.6672, -1.2619, -0.4391],\n",
       "         [-1.9375,  0.3742,  0.6168,  ...,  1.1002,  0.5501, -1.7326],\n",
       "         ...,\n",
       "         [ 0.6097, -0.0311,  0.3657,  ..., -0.9129,  1.0052, -2.4916],\n",
       "         [ 0.6097, -0.0311,  0.3657,  ..., -0.9129,  1.0052, -2.4916],\n",
       "         [ 0.6097, -0.0311,  0.3657,  ..., -0.9129,  1.0052, -2.4916]],\n",
       "\n",
       "        [[ 0.4033, -0.0790,  1.5855,  ...,  0.1375,  0.7096, -0.6033],\n",
       "         [ 0.0760, -1.6840, -0.4239,  ..., -1.6081, -0.1037,  0.0384],\n",
       "         [-0.9361,  0.4632,  0.6671,  ...,  0.4600, -0.6394,  1.0848],\n",
       "         ...,\n",
       "         [ 0.6097, -0.0311,  0.3657,  ..., -0.9129,  1.0052, -2.4916],\n",
       "         [ 0.6097, -0.0311,  0.3657,  ..., -0.9129,  1.0052, -2.4916],\n",
       "         [ 0.6097, -0.0311,  0.3657,  ..., -0.9129,  1.0052, -2.4916]]],\n",
       "       grad_fn=<EmbeddingBackward0>)"
      ]
     },
     "execution_count": 73,
     "metadata": {},
     "output_type": "execute_result"
    }
   ],
   "source": [
    "embedded_seq_tensor"
   ]
  },
  {
   "cell_type": "code",
   "execution_count": 75,
   "id": "46fffe10-34c7-4fa2-b461-85f22c06a9ad",
   "metadata": {},
   "outputs": [
    {
     "data": {
      "text/plain": [
       "torch.Size([128, 2363, 512])"
      ]
     },
     "execution_count": 75,
     "metadata": {},
     "output_type": "execute_result"
    }
   ],
   "source": [
    "embedded_seq_tensor.shape"
   ]
  },
  {
   "cell_type": "code",
   "execution_count": 78,
   "id": "3b066205-a5de-4e69-91f2-9061acd971c3",
   "metadata": {},
   "outputs": [],
   "source": [
    "packed_input = pack_padded_sequence(embedded_seq_tensor, seq, batch_first=True, enforce_sorted=False)"
   ]
  },
  {
   "cell_type": "code",
   "execution_count": 79,
   "id": "24ae632b-1ef6-417b-be6f-ad430ca26dec",
   "metadata": {},
   "outputs": [
    {
     "data": {
      "text/plain": [
       "tensor([[ 0.4033, -0.0790,  1.5855,  ...,  0.1375,  0.7096, -0.6033],\n",
       "        [ 0.4033, -0.0790,  1.5855,  ...,  0.1375,  0.7096, -0.6033],\n",
       "        [ 0.4033, -0.0790,  1.5855,  ...,  0.1375,  0.7096, -0.6033],\n",
       "        ...,\n",
       "        [-0.4241, -0.0841, -1.9274,  ..., -1.4556,  1.2830,  1.3497],\n",
       "        [ 0.9698, -0.0978, -0.1560,  ..., -0.3862, -0.4384, -0.9821],\n",
       "        [-0.0101,  2.1456, -0.3731,  ...,  0.5410, -0.5722,  2.7503]],\n",
       "       grad_fn=<PackPaddedSequenceBackward0>)"
      ]
     },
     "execution_count": 79,
     "metadata": {},
     "output_type": "execute_result"
    }
   ],
   "source": [
    "packed_input.data"
   ]
  },
  {
   "cell_type": "code",
   "execution_count": 81,
   "id": "32965ee0-1c79-4630-a7b0-010d17d4374c",
   "metadata": {},
   "outputs": [
    {
     "data": {
      "text/plain": [
       "tensor([128, 128, 128,  ...,   1,   1,   1])"
      ]
     },
     "execution_count": 81,
     "metadata": {},
     "output_type": "execute_result"
    }
   ],
   "source": [
    "packed_input.batch_sizes"
   ]
  },
  {
   "cell_type": "code",
   "execution_count": 94,
   "id": "3004c533-ee97-4a0d-973f-2d10e3fd8da2",
   "metadata": {},
   "outputs": [],
   "source": [
    "lstm_output, (hidden, cell) = lstm(packed_input)"
   ]
  },
  {
   "cell_type": "code",
   "execution_count": 100,
   "id": "2455dbf7-4622-46b0-970d-a04d22afaa8a",
   "metadata": {},
   "outputs": [
    {
     "data": {
      "text/plain": [
       "tensor([[-0.0130,  0.0170,  0.0042,  ..., -0.0211, -0.0070,  0.0016],\n",
       "        [-0.0279, -0.0022,  0.0054,  ..., -0.0298, -0.0022,  0.0237],\n",
       "        [-0.0143, -0.0044, -0.0220,  ..., -0.0179,  0.0070,  0.0218],\n",
       "        ...,\n",
       "        [-0.0629, -0.0128,  0.0307,  ..., -0.0618, -0.0635, -0.0100],\n",
       "        [-0.0399, -0.0089,  0.0237,  ..., -0.0756, -0.0470,  0.0027],\n",
       "        [-0.0161, -0.0304, -0.0073,  ..., -0.0800, -0.0491,  0.0042]],\n",
       "       grad_fn=<CatBackward0>)"
      ]
     },
     "execution_count": 100,
     "metadata": {},
     "output_type": "execute_result"
    }
   ],
   "source": [
    "lstm_output.data"
   ]
  },
  {
   "cell_type": "code",
   "execution_count": 96,
   "id": "87fb6dd3-1ceb-45e0-92e6-fc33b38b2431",
   "metadata": {},
   "outputs": [
    {
     "data": {
      "text/plain": [
       "tensor([128, 128, 128,  ...,   1,   1,   1])"
      ]
     },
     "execution_count": 96,
     "metadata": {},
     "output_type": "execute_result"
    }
   ],
   "source": [
    "lstm_output.batch_sizes"
   ]
  },
  {
   "cell_type": "code",
   "execution_count": 105,
   "id": "a9e55849-962b-4628-a8a4-84be5d842b57",
   "metadata": {},
   "outputs": [],
   "source": [
    "prediction = fc(hidden[-1])"
   ]
  },
  {
   "cell_type": "code",
   "execution_count": 106,
   "id": "a7ae16ae-2257-484c-a23f-d4d865e949d5",
   "metadata": {},
   "outputs": [
    {
     "data": {
      "text/plain": [
       "torch.Size([128, 235])"
      ]
     },
     "execution_count": 106,
     "metadata": {},
     "output_type": "execute_result"
    }
   ],
   "source": [
    "prediction.shape"
   ]
  },
  {
   "cell_type": "code",
   "execution_count": 99,
   "id": "83b60f18-f95e-443d-94f1-2bfa89f8d75b",
   "metadata": {},
   "outputs": [
    {
     "data": {
      "text/plain": [
       "tensor([[ 0.0159, -0.0030,  0.0556,  ...,  0.0695, -0.0131,  0.0396],\n",
       "        [-0.0236, -0.0388,  0.0204,  ...,  0.0830, -0.0170,  0.0089],\n",
       "        [ 0.0070, -0.0023,  0.0450,  ...,  0.0462,  0.0096,  0.0339],\n",
       "        ...,\n",
       "        [-0.0078, -0.0404,  0.0363,  ...,  0.0278,  0.0106,  0.0179],\n",
       "        [-0.0136, -0.0186,  0.0362,  ...,  0.0460,  0.0274,  0.0020],\n",
       "        [-0.0267, -0.0139,  0.0236,  ...,  0.0239, -0.0156,  0.0163]])"
      ]
     },
     "execution_count": 99,
     "metadata": {},
     "output_type": "execute_result"
    }
   ],
   "source": [
    "prediction.data"
   ]
  },
  {
   "cell_type": "code",
   "execution_count": 110,
   "id": "92bc111d-2b8e-4f9f-beea-0519902cec2d",
   "metadata": {},
   "outputs": [
    {
     "data": {
      "text/plain": [
       "tensor(5.4586, grad_fn=<NllLossBackward0>)"
      ]
     },
     "execution_count": 110,
     "metadata": {},
     "output_type": "execute_result"
    }
   ],
   "source": [
    "F.cross_entropy(prediction, target)"
   ]
  },
  {
   "cell_type": "code",
   "execution_count": 111,
   "id": "e2df8e46-24af-4e63-936f-6f107ee348f5",
   "metadata": {},
   "outputs": [
    {
     "data": {
      "text/plain": [
       "tensor([128, 190,  60, 232,  37, 202, 148, 210, 130, 177,  47, 228, 155, 142,\n",
       "        232,  37, 232, 190, 112,  37,  37,  73, 166, 148, 127, 191, 107, 232,\n",
       "        202,  37, 166,  37, 173,  11, 185,  89, 155, 228, 215, 228,  37, 148,\n",
       "        168, 152, 202,  43,  63, 191, 148,  32, 232, 130,  29, 148,   6, 228,\n",
       "         46, 107, 232, 107, 228, 215, 228, 170,  37, 232, 148, 210, 228, 202,\n",
       "        219,  73, 202, 148, 144, 190, 127,  24,  24,  37,  55,  32,  37,  66,\n",
       "         37, 228,  37, 232,  37,  37,  37, 145,  37,  37,  37,  11,  37,  11,\n",
       "        155, 120, 155, 228,  37, 144,  89,  73,  55, 203, 210,  37, 148, 148,\n",
       "         11, 219,  37, 190,  32,  24, 190, 120, 202, 220, 145, 232, 130,  37,\n",
       "         46, 155])"
      ]
     },
     "execution_count": 111,
     "metadata": {},
     "output_type": "execute_result"
    }
   ],
   "source": [
    "prediction.argmax(1)"
   ]
  },
  {
   "cell_type": "code",
   "execution_count": 112,
   "id": "c7ea557b-e152-4d3d-a9ab-d600b1fd8aeb",
   "metadata": {},
   "outputs": [
    {
     "data": {
      "text/plain": [
       "tensor([False, False, False, False, False, False, False, False, False, False,\n",
       "        False, False, False, False, False, False, False, False, False, False,\n",
       "        False, False, False, False, False, False, False, False, False, False,\n",
       "        False, False, False, False, False, False, False, False, False, False,\n",
       "        False, False, False, False, False, False, False, False, False, False,\n",
       "        False, False, False, False, False, False, False, False, False, False,\n",
       "        False, False, False, False, False, False, False, False, False, False,\n",
       "        False, False, False, False, False, False, False, False, False, False,\n",
       "        False, False, False, False, False, False, False, False, False, False,\n",
       "        False, False, False, False, False, False, False, False, False, False,\n",
       "        False, False, False, False, False, False, False, False, False, False,\n",
       "        False, False, False, False, False, False, False, False, False, False,\n",
       "        False, False, False, False, False, False, False, False])"
      ]
     },
     "execution_count": 112,
     "metadata": {},
     "output_type": "execute_result"
    }
   ],
   "source": [
    "(prediction.argmax(1) == target)"
   ]
  }
 ],
 "metadata": {
  "kernelspec": {
   "display_name": "Python 3 (ipykernel)",
   "language": "python",
   "name": "python3"
  },
  "language_info": {
   "codemirror_mode": {
    "name": "ipython",
    "version": 3
   },
   "file_extension": ".py",
   "mimetype": "text/x-python",
   "name": "python",
   "nbconvert_exporter": "python",
   "pygments_lexer": "ipython3",
   "version": "3.9.7"
  },
  "widgets": {
   "application/vnd.jupyter.widget-state+json": {
    "state": {},
    "version_major": 2,
    "version_minor": 0
   }
  }
 },
 "nbformat": 4,
 "nbformat_minor": 5
}
