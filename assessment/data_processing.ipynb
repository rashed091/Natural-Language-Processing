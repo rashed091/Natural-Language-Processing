{
 "cells": [
  {
   "cell_type": "code",
   "execution_count": 184,
   "id": "361a1958-fac6-4704-bc07-8610e36ad139",
   "metadata": {},
   "outputs": [],
   "source": [
    "import io\n",
    "import re\n",
    "import torch\n",
    "import datasets\n",
    "import itertools \n",
    "from torch.nn.utils.rnn import pad_sequence\n",
    "from torch.utils.data import DataLoader\n",
    "import torchtext\n",
    "from torchtext.vocab import build_vocab_from_iterator\n",
    "from torch.utils.data.dataset import random_split\n",
    "from collections import Counter\n",
    "from nltk import ngrams"
   ]
  },
  {
   "cell_type": "code",
   "execution_count": 152,
   "id": "ef11e1ea-865c-42aa-84c3-786df9953ebe",
   "metadata": {},
   "outputs": [],
   "source": []
  },
  {
   "cell_type": "code",
   "execution_count": 153,
   "id": "14680e8a-c36c-4bb2-9683-0e4abfa27ae3",
   "metadata": {},
   "outputs": [
    {
     "name": "stderr",
     "output_type": "stream",
     "text": [
      "WARNING:datasets.builder:Reusing dataset wili_2018 (/home/rashed/.cache/huggingface/datasets/wili_2018/WiLI-2018 dataset/1.1.0/78d7fe4a9d0a01168e45657f302c776ee0afc0978d44e2c3759f4c4975b845f5)\n"
     ]
    },
    {
     "data": {
      "application/vnd.jupyter.widget-view+json": {
       "model_id": "9d5129d7380941f2a02e0600a47f76ec",
       "version_major": 2,
       "version_minor": 0
      },
      "text/plain": [
       "  0%|          | 0/2 [00:00<?, ?it/s]"
      ]
     },
     "metadata": {},
     "output_type": "display_data"
    }
   ],
   "source": [
    "dataset = datasets.load_dataset('wili_2018')"
   ]
  },
  {
   "cell_type": "code",
   "execution_count": 154,
   "id": "ceabcfa5-2b8d-4558-bf01-942d1c091883",
   "metadata": {},
   "outputs": [
    {
     "data": {
      "text/plain": [
       "DatasetDict({\n",
       "    train: Dataset({\n",
       "        features: ['sentence', 'label'],\n",
       "        num_rows: 117500\n",
       "    })\n",
       "    test: Dataset({\n",
       "        features: ['sentence', 'label'],\n",
       "        num_rows: 117500\n",
       "    })\n",
       "})"
      ]
     },
     "execution_count": 154,
     "metadata": {},
     "output_type": "execute_result"
    }
   ],
   "source": [
    "dataset"
   ]
  },
  {
   "cell_type": "code",
   "execution_count": 155,
   "id": "28aabf47-9750-482f-9cd5-fba9a7f1a419",
   "metadata": {},
   "outputs": [
    {
     "data": {
      "text/plain": [
       "{'train': (117500, 2), 'test': (117500, 2)}"
      ]
     },
     "execution_count": 155,
     "metadata": {},
     "output_type": "execute_result"
    }
   ],
   "source": [
    "dataset.shape"
   ]
  },
  {
   "cell_type": "code",
   "execution_count": 156,
   "id": "44f11db5-7c21-4e0e-8e49-350fcf0fc137",
   "metadata": {},
   "outputs": [
    {
     "data": {
      "text/plain": [
       "{'train': ['sentence', 'label'], 'test': ['sentence', 'label']}"
      ]
     },
     "execution_count": 156,
     "metadata": {},
     "output_type": "execute_result"
    }
   ],
   "source": [
    "dataset.column_names"
   ]
  },
  {
   "cell_type": "code",
   "execution_count": 181,
   "id": "f4d37839-b09a-4a71-a90a-3656a9603d59",
   "metadata": {},
   "outputs": [],
   "source": [
    "train_dataset = dataset[\"train\"]"
   ]
  },
  {
   "cell_type": "code",
   "execution_count": 158,
   "id": "db8e61f4-32a4-4c1f-97a4-a1480c5fd62a",
   "metadata": {},
   "outputs": [
    {
     "data": {
      "text/plain": [
       "{'sentence': 'Klement Gottwaldi surnukeha palsameeriti ning paigutati mausoleumi. Surnukeha oli aga liiga hilja ja oskamatult palsameeritud ning hakkas ilmutama lagunemise tundemärke. 1962. aastal viidi ta surnukeha mausoleumist ära ja kremeeriti. Zlíni linn kandis aastatel 1949–1989 nime Gottwaldov. Ukrainas Harkivi oblastis kandis Zmiivi linn aastatel 1976–1990 nime Gotvald.',\n",
       " 'label': 112}"
      ]
     },
     "execution_count": 158,
     "metadata": {},
     "output_type": "execute_result"
    }
   ],
   "source": [
    "train_dataset[0]"
   ]
  },
  {
   "cell_type": "code",
   "execution_count": 159,
   "id": "406e7657-b7ae-4c13-878d-f6d1132f6778",
   "metadata": {},
   "outputs": [],
   "source": [
    "def clean_text(text):\n",
    "    text = re.sub(r\"[-_.0-9A-Za-z]+@[-_0-9A-Za-z]+[-_.0-9A-Za-z]+\", \"\", text)\n",
    "    text = re.sub(r\"https?://[-_.?&~;+=/#0-9A-Za-z]+\", \"\", text)\n",
    "    text = re.sub(r\"[\\+\\d]?(\\d{2,3}[-\\.\\s]??\\d{2,3}[-\\.\\s]??\\d{4}|\\(\\d{3}\\)\\s*\\d{3}[-\\.\\s]??\\d{4}|\\d{3}[-\\.\\s]??\\d{4})\", \"\", text)\n",
    "    text = re.sub(r'[~^0-9]', '', text)\n",
    "    text = re.sub(r\"[-()`\\\"#$!/@%;:\\\\<>{}`+=~<=>\\[\\]|.!?,~_]\", \"\", text)\n",
    "    text = re.sub(r' +', ' ', text)\n",
    "    return text\n",
    "\n",
    "def tokenizer(text, ngram = 3):\n",
    "    text = clean_text(text)\n",
    "    return [\"\".join(k1) for k1 in list(ngrams(text, n=ngram))]\n",
    "\n",
    "def tokenize_data(example, tokenizer):\n",
    "    tokens = {'tokens': tokenizer(example['sentence'])}\n",
    "    return tokens"
   ]
  },
  {
   "cell_type": "code",
   "execution_count": 160,
   "id": "89b2e0e4-b0af-483b-b035-6287fed4f992",
   "metadata": {},
   "outputs": [
    {
     "data": {
      "application/vnd.jupyter.widget-view+json": {
       "model_id": "52db47a038eb4c3596abd434551cfced",
       "version_major": 2,
       "version_minor": 0
      },
      "text/plain": [
       "  0%|          | 0/117500 [00:00<?, ?ex/s]"
      ]
     },
     "metadata": {},
     "output_type": "display_data"
    },
    {
     "data": {
      "application/vnd.jupyter.widget-view+json": {
       "model_id": "b0c4f84c8c604b84840f06493f97848a",
       "version_major": 2,
       "version_minor": 0
      },
      "text/plain": [
       "  0%|          | 0/117500 [00:00<?, ?ex/s]"
      ]
     },
     "metadata": {},
     "output_type": "display_data"
    }
   ],
   "source": [
    "tokenized_dataset = dataset.map(tokenize_data, remove_columns=['sentence'], fn_kwargs={'tokenizer': tokenizer})"
   ]
  },
  {
   "cell_type": "code",
   "execution_count": 121,
   "id": "47b22c3e-bfbe-4a42-9b11-ffc52113ace6",
   "metadata": {},
   "outputs": [],
   "source": [
    "# tokenized_dataset['train'][0]"
   ]
  },
  {
   "cell_type": "code",
   "execution_count": 161,
   "id": "b4e4d5c4-6e09-41c2-af58-392019a22b53",
   "metadata": {},
   "outputs": [],
   "source": [
    "vocab = build_vocab_from_iterator(tokenized_dataset['train']['tokens'], min_freq=3, specials=['<unk>', '<pad>', '<bos>', '<eos>'])\n",
    "\n",
    "PAD_IDX = vocab['<pad>']\n",
    "BOS_IDX = vocab['<bos>']\n",
    "EOS_IDX = vocab['<eos>']\n",
    "UNK_IDX = vocab['<unk>']\n",
    "\n",
    "vocab.set_default_index(UNK_IDX)"
   ]
  },
  {
   "cell_type": "code",
   "execution_count": 162,
   "id": "e3a07b29-739f-4646-982a-603e27019403",
   "metadata": {},
   "outputs": [
    {
     "data": {
      "text/plain": [
       "384583"
      ]
     },
     "execution_count": 162,
     "metadata": {},
     "output_type": "execute_result"
    }
   ],
   "source": [
    "len(vocab)"
   ]
  },
  {
   "cell_type": "code",
   "execution_count": 163,
   "id": "c9e11fe3-1ecd-4c42-908f-7dcb6a557400",
   "metadata": {},
   "outputs": [
    {
     "data": {
      "text/plain": [
       "['<unk>', '<pad>', '<bos>', '<eos>', 'an ', ' de', 'en ', 'de ', 'na ', 'ng ']"
      ]
     },
     "execution_count": 163,
     "metadata": {},
     "output_type": "execute_result"
    }
   ],
   "source": [
    "vocab.get_itos()[:10]"
   ]
  },
  {
   "cell_type": "code",
   "execution_count": 164,
   "id": "5356cf16-5e07-41bd-82b8-30da90de9ac6",
   "metadata": {},
   "outputs": [
    {
     "data": {
      "text/plain": [
       "False"
      ]
     },
     "execution_count": 164,
     "metadata": {},
     "output_type": "execute_result"
    }
   ],
   "source": [
    "'hello' in vocab"
   ]
  },
  {
   "cell_type": "code",
   "execution_count": 165,
   "id": "c7d59104-eee3-4a93-93fd-c3ac1843e9be",
   "metadata": {},
   "outputs": [
    {
     "data": {
      "text/plain": [
       "True"
      ]
     },
     "execution_count": 165,
     "metadata": {},
     "output_type": "execute_result"
    }
   ],
   "source": [
    "'the' in vocab"
   ]
  },
  {
   "cell_type": "code",
   "execution_count": 166,
   "id": "db08b2f3-8f15-4c8d-b847-8ba5e690897e",
   "metadata": {},
   "outputs": [
    {
     "name": "stdout",
     "output_type": "stream",
     "text": [
      "here is httpswwwhellocom the an example \n"
     ]
    }
   ],
   "source": [
    "s = '123here `is` https:www.hello.com\\ the [55 an] example rashed091nsu@gmail.com'\n",
    "print(clean_text(s))"
   ]
  },
  {
   "cell_type": "code",
   "execution_count": 167,
   "id": "6e509c18-a07e-49b4-97bf-ce59e9f470fa",
   "metadata": {},
   "outputs": [
    {
     "data": {
      "text/plain": [
       "['her',\n",
       " 'ere',\n",
       " 're ',\n",
       " 'e i',\n",
       " ' is',\n",
       " 'is ',\n",
       " 's t',\n",
       " ' th',\n",
       " 'the',\n",
       " 'he ',\n",
       " 'e a',\n",
       " ' an',\n",
       " 'an ',\n",
       " 'n e',\n",
       " ' ex',\n",
       " 'exa',\n",
       " 'xam',\n",
       " 'amp',\n",
       " 'mpl',\n",
       " 'ple']"
      ]
     },
     "execution_count": 167,
     "metadata": {},
     "output_type": "execute_result"
    }
   ],
   "source": [
    "tokenizer('123here is the an example')"
   ]
  },
  {
   "cell_type": "code",
   "execution_count": 168,
   "id": "330905d9-3673-4a6f-bdf2-5bf3418073a5",
   "metadata": {},
   "outputs": [],
   "source": [
    "text_pipeline = lambda text: vocab(list(itertools.chain(['<bos>'], tokenizer(text), ['<eos>'])))"
   ]
  },
  {
   "cell_type": "code",
   "execution_count": 169,
   "id": "34bade53-0757-4391-8705-3ce61a276e5a",
   "metadata": {},
   "outputs": [
    {
     "data": {
      "text/plain": [
       "[2,\n",
       " 700,\n",
       " 166,\n",
       " 46,\n",
       " 170,\n",
       " 183,\n",
       " 39,\n",
       " 496,\n",
       " 150,\n",
       " 214,\n",
       " 50,\n",
       " 68,\n",
       " 35,\n",
       " 4,\n",
       " 172,\n",
       " 2042,\n",
       " 7007,\n",
       " 7895,\n",
       " 887,\n",
       " 2208,\n",
       " 1802,\n",
       " 3]"
      ]
     },
     "execution_count": 169,
     "metadata": {},
     "output_type": "execute_result"
    }
   ],
   "source": [
    "text_pipeline('123here is the an example')"
   ]
  },
  {
   "cell_type": "code",
   "execution_count": 185,
   "id": "91fac7d7-4aee-4a00-94c6-f00d38b23406",
   "metadata": {},
   "outputs": [],
   "source": [
    "def generate_batch(data):\n",
    "    batch = []\n",
    "    labels = []\n",
    "    for example in data:\n",
    "        tokens = list(itertools.chain(['<bos>'], example['tokens'], ['<eos>']))\n",
    "        data_tensor = torch.tensor([vocab[token] for token in tokens], dtype=torch.long)\n",
    "        labels.append(example['label'])\n",
    "        batch.append(data_tensor)\n",
    "    batch = pad_sequence(batch, padding_value=PAD_IDX)\n",
    "    labels = torch.tensor(labels, dtype=torch.long)\n",
    "    return batch, labels"
   ]
  },
  {
   "cell_type": "code",
   "execution_count": 189,
   "id": "5a7873e3-099e-4a8f-bc91-604fe9b4183c",
   "metadata": {},
   "outputs": [],
   "source": [
    "train_dataset = tokenized_dataset['train']\n",
    "test_dataset = tokenized_dataset['test']"
   ]
  },
  {
   "cell_type": "code",
   "execution_count": 190,
   "id": "75ca476b-12d9-4149-95e0-15002c7be829",
   "metadata": {},
   "outputs": [],
   "source": [
    "num_train = int(len(train_dataset) * 0.75)\n",
    "split_train, split_valid = random_split(train_dataset, [num_train, len(train_dataset) - num_train])"
   ]
  },
  {
   "cell_type": "code",
   "execution_count": 191,
   "id": "224441da-70d1-45c0-b4f8-8dc6bbc94812",
   "metadata": {},
   "outputs": [],
   "source": [
    "train_dataloader = DataLoader(split_train, batch_size=BATCH_SIZE, shuffle=False, collate_fn=generate_batch)\n",
    "valid_dataloader = DataLoader(split_valid, batch_size=BATCH_SIZE, shuffle=False, collate_fn=generate_batch)\n",
    "test_dataloader = DataLoader(test_dataset, batch_size=BATCH_SIZE, shuffle=False, collate_fn=generate_batch)"
   ]
  },
  {
   "cell_type": "code",
   "execution_count": 192,
   "id": "e4dd07a2-9638-4f8e-bfb0-2e205376677e",
   "metadata": {},
   "outputs": [
    {
     "name": "stdout",
     "output_type": "stream",
     "text": [
      "torch.Size([2142, 128])\n",
      "128\n"
     ]
    }
   ],
   "source": [
    "for _, (source, target) in enumerate(train_dataloader):\n",
    "    print(source.shape)\n",
    "    print(len(target))\n",
    "    break"
   ]
  },
  {
   "cell_type": "code",
   "execution_count": 193,
   "id": "d14f0033-881e-4b6f-8691-6539881070d6",
   "metadata": {},
   "outputs": [
    {
     "ename": "TypeError",
     "evalue": "'DataLoader' object is not subscriptable",
     "output_type": "error",
     "traceback": [
      "\u001b[0;31m---------------------------------------------------------------------------\u001b[0m",
      "\u001b[0;31mTypeError\u001b[0m                                 Traceback (most recent call last)",
      "\u001b[0;32m/tmp/ipykernel_33683/1280198429.py\u001b[0m in \u001b[0;36m<module>\u001b[0;34m\u001b[0m\n\u001b[0;32m----> 1\u001b[0;31m \u001b[0mvalid_dataloader\u001b[0m\u001b[0;34m[\u001b[0m\u001b[0;36m0\u001b[0m\u001b[0;34m]\u001b[0m\u001b[0;34m\u001b[0m\u001b[0;34m\u001b[0m\u001b[0m\n\u001b[0m",
      "\u001b[0;31mTypeError\u001b[0m: 'DataLoader' object is not subscriptable"
     ]
    }
   ],
   "source": [
    "valid_dataloader[0]"
   ]
  },
  {
   "cell_type": "code",
   "execution_count": null,
   "id": "1ae4e84f-a4d1-4bac-a772-f05a2078e28e",
   "metadata": {},
   "outputs": [],
   "source": [
    "train_dataloader = DataLoader(tokenized_dataset['train'], batch_size=BATCH_SIZE, shuffle=True, collate_fn=generate_batch)"
   ]
  }
 ],
 "metadata": {
  "kernelspec": {
   "display_name": "Python 3 (ipykernel)",
   "language": "python",
   "name": "python3"
  },
  "language_info": {
   "codemirror_mode": {
    "name": "ipython",
    "version": 3
   },
   "file_extension": ".py",
   "mimetype": "text/x-python",
   "name": "python",
   "nbconvert_exporter": "python",
   "pygments_lexer": "ipython3",
   "version": "3.9.7"
  },
  "widgets": {
   "application/vnd.jupyter.widget-state+json": {
    "state": {
     "0215213e23a94762835ff08a8064ab35": {
      "model_module": "@jupyter-widgets/controls",
      "model_module_version": "1.5.0",
      "model_name": "HTMLModel",
      "state": {
       "layout": "IPY_MODEL_2287875370d24bf2b9c594fbe0b4a8e7",
       "style": "IPY_MODEL_d4e3e5dc341e4443950b53d995a2476d",
       "value": " 117500/117500 [00:15&lt;00:00, 7660.42ex/s]"
      }
     },
     "0453ddabb3b7455ab64898d6779499c4": {
      "model_module": "@jupyter-widgets/base",
      "model_module_version": "1.2.0",
      "model_name": "LayoutModel",
      "state": {}
     },
     "04b5333bd54e4bfdb04e221f4c0d0ced": {
      "model_module": "@jupyter-widgets/base",
      "model_module_version": "1.2.0",
      "model_name": "LayoutModel",
      "state": {}
     },
     "04ce5712b57b4c5caa3586f9228c2a37": {
      "model_module": "@jupyter-widgets/base",
      "model_module_version": "1.2.0",
      "model_name": "LayoutModel",
      "state": {}
     },
     "05cb7a3c2da9483e98fd258e4e7a2db4": {
      "model_module": "@jupyter-widgets/base",
      "model_module_version": "1.2.0",
      "model_name": "LayoutModel",
      "state": {}
     },
     "0a2ed8c9625f4fa2809b04183f67a94e": {
      "model_module": "@jupyter-widgets/base",
      "model_module_version": "1.2.0",
      "model_name": "LayoutModel",
      "state": {}
     },
     "100073f50a6f429d91af5c8ee2f1ca39": {
      "model_module": "@jupyter-widgets/base",
      "model_module_version": "1.2.0",
      "model_name": "LayoutModel",
      "state": {}
     },
     "1421e213ed8c45c6bb0edeb3223e848a": {
      "model_module": "@jupyter-widgets/base",
      "model_module_version": "1.2.0",
      "model_name": "LayoutModel",
      "state": {}
     },
     "142a79ed0cd74573bfc86592bc9c7391": {
      "model_module": "@jupyter-widgets/base",
      "model_module_version": "1.2.0",
      "model_name": "LayoutModel",
      "state": {}
     },
     "183955ca81024ed2a728c570d3956f40": {
      "model_module": "@jupyter-widgets/controls",
      "model_module_version": "1.5.0",
      "model_name": "ProgressStyleModel",
      "state": {
       "description_width": ""
      }
     },
     "18f8b44ba65a464daaa31ba4354202b0": {
      "model_module": "@jupyter-widgets/controls",
      "model_module_version": "1.5.0",
      "model_name": "HTMLModel",
      "state": {
       "layout": "IPY_MODEL_a0e72e327cb6429d80d50d66c24a17ef",
       "style": "IPY_MODEL_aaa82b0b23344dc4bc6742d6bbf3b2b5",
       "value": " 2/2 [00:00&lt;00:00, 97.69it/s]"
      }
     },
     "1c9bdec170f948879ededdfb4a884e8c": {
      "model_module": "@jupyter-widgets/controls",
      "model_module_version": "1.5.0",
      "model_name": "HTMLModel",
      "state": {
       "layout": "IPY_MODEL_5e78ba12f3214dd3abd3f21b5a17aeb7",
       "style": "IPY_MODEL_ca5ef249d2064e89a847b1de2a8819cc",
       "value": "100%"
      }
     },
     "1f94439d13c84dc8b43fe95601491a81": {
      "model_module": "@jupyter-widgets/base",
      "model_module_version": "1.2.0",
      "model_name": "LayoutModel",
      "state": {}
     },
     "2035d6d6f89c4c39922582a9b45be35d": {
      "model_module": "@jupyter-widgets/controls",
      "model_module_version": "1.5.0",
      "model_name": "HTMLModel",
      "state": {
       "layout": "IPY_MODEL_dd93157e203846669cdf8ade3bc09d4a",
       "style": "IPY_MODEL_e808560a963f4803984dd4485c3d1017",
       "value": " 117500/117500 [00:17&lt;00:00, 7152.28ex/s]"
      }
     },
     "20f9f08c1657453c8ed4310c0ca1f34f": {
      "model_module": "@jupyter-widgets/controls",
      "model_module_version": "1.5.0",
      "model_name": "HTMLModel",
      "state": {
       "layout": "IPY_MODEL_29d0a59d4c734f13861f495d4d2596b3",
       "style": "IPY_MODEL_3445923c2d30473f834e04e9798192db",
       "value": " 2/2 [00:00&lt;00:00, 123.36it/s]"
      }
     },
     "2175ce51fb1849a08c6485d88a605040": {
      "model_module": "@jupyter-widgets/controls",
      "model_module_version": "1.5.0",
      "model_name": "HBoxModel",
      "state": {
       "children": [
        "IPY_MODEL_68c0d2f4ac3a4f7db65f8f753ed1b69e",
        "IPY_MODEL_f534facd74394a8c8e5ed0afd69ec42a",
        "IPY_MODEL_5c2a844984874490a5168e4548c949c5"
       ],
       "layout": "IPY_MODEL_65f2fa75737d4d6e8098e22fda8f0b11"
      }
     },
     "225d4fde058c4ee980b80cc8cd837dea": {
      "model_module": "@jupyter-widgets/controls",
      "model_module_version": "1.5.0",
      "model_name": "ProgressStyleModel",
      "state": {
       "description_width": ""
      }
     },
     "2287875370d24bf2b9c594fbe0b4a8e7": {
      "model_module": "@jupyter-widgets/base",
      "model_module_version": "1.2.0",
      "model_name": "LayoutModel",
      "state": {}
     },
     "234bef5599f84780a633193d5f9e9f12": {
      "model_module": "@jupyter-widgets/base",
      "model_module_version": "1.2.0",
      "model_name": "LayoutModel",
      "state": {}
     },
     "29d0a59d4c734f13861f495d4d2596b3": {
      "model_module": "@jupyter-widgets/base",
      "model_module_version": "1.2.0",
      "model_name": "LayoutModel",
      "state": {}
     },
     "29f8178627b248438f8d5988006c3ac5": {
      "model_module": "@jupyter-widgets/controls",
      "model_module_version": "1.5.0",
      "model_name": "HTMLModel",
      "state": {
       "layout": "IPY_MODEL_0a2ed8c9625f4fa2809b04183f67a94e",
       "style": "IPY_MODEL_307710e5c72942e7aa87a9e007b3a5b7",
       "value": "  0%"
      }
     },
     "2bd19bc4f99647b286303223dcfa61c6": {
      "model_module": "@jupyter-widgets/base",
      "model_module_version": "1.2.0",
      "model_name": "LayoutModel",
      "state": {}
     },
     "2ebac92112df4a1abc70cc7343d6db96": {
      "model_module": "@jupyter-widgets/controls",
      "model_module_version": "1.5.0",
      "model_name": "HBoxModel",
      "state": {
       "children": [
        "IPY_MODEL_57a0b5f55c7f4b12bfdc6ee48d61007e",
        "IPY_MODEL_aa125162ca724d449138311f9ef33d54",
        "IPY_MODEL_bf79324037f447d99062d143b3a3771a"
       ],
       "layout": "IPY_MODEL_e691394871b14914813777ab53565c8a"
      }
     },
     "307710e5c72942e7aa87a9e007b3a5b7": {
      "model_module": "@jupyter-widgets/controls",
      "model_module_version": "1.5.0",
      "model_name": "DescriptionStyleModel",
      "state": {
       "description_width": ""
      }
     },
     "30a262ffbab94cf289b815cb231b15dd": {
      "model_module": "@jupyter-widgets/controls",
      "model_module_version": "1.5.0",
      "model_name": "FloatProgressModel",
      "state": {
       "bar_style": "success",
       "layout": "IPY_MODEL_8ab9338e236a47e2aa9c2044d8259514",
       "max": 2,
       "style": "IPY_MODEL_71efa1a493f84503a9afc963851ee977",
       "value": 2
      }
     },
     "30ccc13596ee47e9a87afc0043c6de64": {
      "model_module": "@jupyter-widgets/controls",
      "model_module_version": "1.5.0",
      "model_name": "ProgressStyleModel",
      "state": {
       "description_width": ""
      }
     },
     "311a4e0719784918bd3054bb53b8ea41": {
      "model_module": "@jupyter-widgets/controls",
      "model_module_version": "1.5.0",
      "model_name": "ProgressStyleModel",
      "state": {
       "description_width": ""
      }
     },
     "32006906f70f4741899fa4ee24439830": {
      "model_module": "@jupyter-widgets/base",
      "model_module_version": "1.2.0",
      "model_name": "LayoutModel",
      "state": {}
     },
     "336ef2449bf749589c17d8fa5d21acd5": {
      "model_module": "@jupyter-widgets/controls",
      "model_module_version": "1.5.0",
      "model_name": "FloatProgressModel",
      "state": {
       "bar_style": "success",
       "layout": "IPY_MODEL_1f94439d13c84dc8b43fe95601491a81",
       "max": 2,
       "style": "IPY_MODEL_9b76442a0b2a4d409e7fe46816a57745",
       "value": 2
      }
     },
     "3445923c2d30473f834e04e9798192db": {
      "model_module": "@jupyter-widgets/controls",
      "model_module_version": "1.5.0",
      "model_name": "DescriptionStyleModel",
      "state": {
       "description_width": ""
      }
     },
     "384449254bac4938871434fd3374e7ea": {
      "model_module": "@jupyter-widgets/controls",
      "model_module_version": "1.5.0",
      "model_name": "ProgressStyleModel",
      "state": {
       "description_width": ""
      }
     },
     "3dfc97ac666142598baad37534e161ad": {
      "model_module": "@jupyter-widgets/base",
      "model_module_version": "1.2.0",
      "model_name": "LayoutModel",
      "state": {}
     },
     "49269fbbcd1e4fb0b77e7dfb49373974": {
      "model_module": "@jupyter-widgets/controls",
      "model_module_version": "1.5.0",
      "model_name": "HTMLModel",
      "state": {
       "layout": "IPY_MODEL_1421e213ed8c45c6bb0edeb3223e848a",
       "style": "IPY_MODEL_757668d3606441b6b014dfe5c36cb513",
       "value": " 117500/117500 [00:17&lt;00:00, 6879.93ex/s]"
      }
     },
     "4d2ca7b316984153aebe71e1448ac74c": {
      "model_module": "@jupyter-widgets/controls",
      "model_module_version": "1.5.0",
      "model_name": "DescriptionStyleModel",
      "state": {
       "description_width": ""
      }
     },
     "4dc94cb802964194992e6b88ea480322": {
      "model_module": "@jupyter-widgets/controls",
      "model_module_version": "1.5.0",
      "model_name": "HTMLModel",
      "state": {
       "layout": "IPY_MODEL_907f48de05184ca389be857bfdbdab30",
       "style": "IPY_MODEL_75d3e82dc19245c289b33db4b939b61f",
       "value": " 117500/117500 [00:17&lt;00:00, 6665.46ex/s]"
      }
     },
     "513134b8bb0b4c068c9c7610f5123ff7": {
      "model_module": "@jupyter-widgets/controls",
      "model_module_version": "1.5.0",
      "model_name": "DescriptionStyleModel",
      "state": {
       "description_width": ""
      }
     },
     "52954a17ec63433690f4b335e8ccca46": {
      "model_module": "@jupyter-widgets/base",
      "model_module_version": "1.2.0",
      "model_name": "LayoutModel",
      "state": {}
     },
     "52db47a038eb4c3596abd434551cfced": {
      "model_module": "@jupyter-widgets/controls",
      "model_module_version": "1.5.0",
      "model_name": "HBoxModel",
      "state": {
       "children": [
        "IPY_MODEL_7dee5e3780a54d8fac89ff75073523c5",
        "IPY_MODEL_5903441e83ca4d92a03de41cd3c150fa",
        "IPY_MODEL_0215213e23a94762835ff08a8064ab35"
       ],
       "layout": "IPY_MODEL_da09f547331e46809beabb819920a731"
      }
     },
     "537c987d9e3d40ffbbd596cf562d68bf": {
      "model_module": "@jupyter-widgets/controls",
      "model_module_version": "1.5.0",
      "model_name": "HBoxModel",
      "state": {
       "children": [
        "IPY_MODEL_b09298f00aca4f2fb3ad995f1e75d277",
        "IPY_MODEL_336ef2449bf749589c17d8fa5d21acd5",
        "IPY_MODEL_20f9f08c1657453c8ed4310c0ca1f34f"
       ],
       "layout": "IPY_MODEL_52954a17ec63433690f4b335e8ccca46"
      }
     },
     "5541788b44d6447ea81e23ab9eed23ea": {
      "model_module": "@jupyter-widgets/base",
      "model_module_version": "1.2.0",
      "model_name": "LayoutModel",
      "state": {}
     },
     "56efb49cb63643cc8a31286c5e4315c0": {
      "model_module": "@jupyter-widgets/controls",
      "model_module_version": "1.5.0",
      "model_name": "ProgressStyleModel",
      "state": {
       "description_width": ""
      }
     },
     "5794a7cbde8d4ff4a0911aed9173eab1": {
      "model_module": "@jupyter-widgets/controls",
      "model_module_version": "1.5.0",
      "model_name": "DescriptionStyleModel",
      "state": {
       "description_width": ""
      }
     },
     "57a0b5f55c7f4b12bfdc6ee48d61007e": {
      "model_module": "@jupyter-widgets/controls",
      "model_module_version": "1.5.0",
      "model_name": "HTMLModel",
      "state": {
       "layout": "IPY_MODEL_0453ddabb3b7455ab64898d6779499c4",
       "style": "IPY_MODEL_cf2ecc83faa943d7afa550c3b353a384",
       "value": "100%"
      }
     },
     "5903441e83ca4d92a03de41cd3c150fa": {
      "model_module": "@jupyter-widgets/controls",
      "model_module_version": "1.5.0",
      "model_name": "FloatProgressModel",
      "state": {
       "bar_style": "success",
       "layout": "IPY_MODEL_142a79ed0cd74573bfc86592bc9c7391",
       "max": 117500,
       "style": "IPY_MODEL_311a4e0719784918bd3054bb53b8ea41",
       "value": 117500
      }
     },
     "5c10256f687d4972b75020d6f491d05e": {
      "model_module": "@jupyter-widgets/controls",
      "model_module_version": "1.5.0",
      "model_name": "FloatProgressModel",
      "state": {
       "bar_style": "success",
       "layout": "IPY_MODEL_792262d284ff46d1a6ba9f031694247a",
       "max": 117500,
       "style": "IPY_MODEL_384449254bac4938871434fd3374e7ea",
       "value": 117500
      }
     },
     "5c2a844984874490a5168e4548c949c5": {
      "model_module": "@jupyter-widgets/controls",
      "model_module_version": "1.5.0",
      "model_name": "HTMLModel",
      "state": {
       "layout": "IPY_MODEL_234bef5599f84780a633193d5f9e9f12",
       "style": "IPY_MODEL_4d2ca7b316984153aebe71e1448ac74c",
       "value": " 0/117500 [00:00&lt;?, ?ex/s]"
      }
     },
     "5ce0400954ea4c2f81d927ab3ceb8604": {
      "model_module": "@jupyter-widgets/controls",
      "model_module_version": "1.5.0",
      "model_name": "HBoxModel",
      "state": {
       "children": [
        "IPY_MODEL_29f8178627b248438f8d5988006c3ac5",
        "IPY_MODEL_a05f84f7b0254dd7b04b239b162f647d",
        "IPY_MODEL_91de2f44541e4c40806d56f1871df73e"
       ],
       "layout": "IPY_MODEL_9b027bdd58a34ed59a54c7ddd0398d54"
      }
     },
     "5e78ba12f3214dd3abd3f21b5a17aeb7": {
      "model_module": "@jupyter-widgets/base",
      "model_module_version": "1.2.0",
      "model_name": "LayoutModel",
      "state": {}
     },
     "60a633d1dcdb46c6a90eddaca34da062": {
      "model_module": "@jupyter-widgets/controls",
      "model_module_version": "1.5.0",
      "model_name": "HBoxModel",
      "state": {
       "children": [
        "IPY_MODEL_6b74d4d83c1c4dab83b125876637a6fc",
        "IPY_MODEL_c4e189e3a1cc48478dd8ac966fce1366",
        "IPY_MODEL_49269fbbcd1e4fb0b77e7dfb49373974"
       ],
       "layout": "IPY_MODEL_05cb7a3c2da9483e98fd258e4e7a2db4"
      }
     },
     "65f2fa75737d4d6e8098e22fda8f0b11": {
      "model_module": "@jupyter-widgets/base",
      "model_module_version": "1.2.0",
      "model_name": "LayoutModel",
      "state": {}
     },
     "68c0d2f4ac3a4f7db65f8f753ed1b69e": {
      "model_module": "@jupyter-widgets/controls",
      "model_module_version": "1.5.0",
      "model_name": "HTMLModel",
      "state": {
       "layout": "IPY_MODEL_7849bfb499b244a7b7849b4d87ff8244",
       "style": "IPY_MODEL_69d4c0949d934484af7c49f6ac21bfd7",
       "value": "  0%"
      }
     },
     "696f83b069604f238430c23d68a9d27c": {
      "model_module": "@jupyter-widgets/controls",
      "model_module_version": "1.5.0",
      "model_name": "DescriptionStyleModel",
      "state": {
       "description_width": ""
      }
     },
     "69d4c0949d934484af7c49f6ac21bfd7": {
      "model_module": "@jupyter-widgets/controls",
      "model_module_version": "1.5.0",
      "model_name": "DescriptionStyleModel",
      "state": {
       "description_width": ""
      }
     },
     "6aac9684f8334c4896d4cca70db42644": {
      "model_module": "@jupyter-widgets/controls",
      "model_module_version": "1.5.0",
      "model_name": "ProgressStyleModel",
      "state": {
       "description_width": ""
      }
     },
     "6ae573bae20b4f1f932f98cad45355bc": {
      "model_module": "@jupyter-widgets/base",
      "model_module_version": "1.2.0",
      "model_name": "LayoutModel",
      "state": {}
     },
     "6b74d4d83c1c4dab83b125876637a6fc": {
      "model_module": "@jupyter-widgets/controls",
      "model_module_version": "1.5.0",
      "model_name": "HTMLModel",
      "state": {
       "layout": "IPY_MODEL_ee3842bb9d314d11aebe957f79d094dc",
       "style": "IPY_MODEL_89b472b550304ffea72551772e7c5cea",
       "value": "100%"
      }
     },
     "6e011e0efe9c40a39b5574c797099765": {
      "model_module": "@jupyter-widgets/base",
      "model_module_version": "1.2.0",
      "model_name": "LayoutModel",
      "state": {}
     },
     "6f284523b0b64c4c9799c8f8b2621cc6": {
      "model_module": "@jupyter-widgets/base",
      "model_module_version": "1.2.0",
      "model_name": "LayoutModel",
      "state": {}
     },
     "71efa1a493f84503a9afc963851ee977": {
      "model_module": "@jupyter-widgets/controls",
      "model_module_version": "1.5.0",
      "model_name": "ProgressStyleModel",
      "state": {
       "description_width": ""
      }
     },
     "734c06a5bce84de6924b65c07fe10efa": {
      "model_module": "@jupyter-widgets/controls",
      "model_module_version": "1.5.0",
      "model_name": "HTMLModel",
      "state": {
       "layout": "IPY_MODEL_f1c5113b905f4f24bca79030e8977253",
       "style": "IPY_MODEL_b1a893bcf9d04832a6b4518ec608b35a",
       "value": "100%"
      }
     },
     "757668d3606441b6b014dfe5c36cb513": {
      "model_module": "@jupyter-widgets/controls",
      "model_module_version": "1.5.0",
      "model_name": "DescriptionStyleModel",
      "state": {
       "description_width": ""
      }
     },
     "75d3e82dc19245c289b33db4b939b61f": {
      "model_module": "@jupyter-widgets/controls",
      "model_module_version": "1.5.0",
      "model_name": "DescriptionStyleModel",
      "state": {
       "description_width": ""
      }
     },
     "7849bfb499b244a7b7849b4d87ff8244": {
      "model_module": "@jupyter-widgets/base",
      "model_module_version": "1.2.0",
      "model_name": "LayoutModel",
      "state": {}
     },
     "792262d284ff46d1a6ba9f031694247a": {
      "model_module": "@jupyter-widgets/base",
      "model_module_version": "1.2.0",
      "model_name": "LayoutModel",
      "state": {}
     },
     "7a718fd11d2848c5adefad881be38b2d": {
      "model_module": "@jupyter-widgets/controls",
      "model_module_version": "1.5.0",
      "model_name": "HBoxModel",
      "state": {
       "children": [
        "IPY_MODEL_e9b5a56557954edea428ae6798372753",
        "IPY_MODEL_8966330fe49f41dfae8b24755b1db89c",
        "IPY_MODEL_18f8b44ba65a464daaa31ba4354202b0"
       ],
       "layout": "IPY_MODEL_5541788b44d6447ea81e23ab9eed23ea"
      }
     },
     "7c03fc68905f40f385121dbe63ce79d6": {
      "model_module": "@jupyter-widgets/controls",
      "model_module_version": "1.5.0",
      "model_name": "HTMLModel",
      "state": {
       "layout": "IPY_MODEL_d70db648d64c4e879e95806fc8b507eb",
       "style": "IPY_MODEL_9401d62f653c46f984b1ee7ce4a1ece2",
       "value": "100%"
      }
     },
     "7dee5e3780a54d8fac89ff75073523c5": {
      "model_module": "@jupyter-widgets/controls",
      "model_module_version": "1.5.0",
      "model_name": "HTMLModel",
      "state": {
       "layout": "IPY_MODEL_de1d7c39e668475885610d3cf6acbd8b",
       "style": "IPY_MODEL_513134b8bb0b4c068c9c7610f5123ff7",
       "value": "100%"
      }
     },
     "7f05174990664a1e9e5baf1baa100e54": {
      "model_module": "@jupyter-widgets/controls",
      "model_module_version": "1.5.0",
      "model_name": "DescriptionStyleModel",
      "state": {
       "description_width": ""
      }
     },
     "854b9739e1984e73b70a5ffab4fdc120": {
      "model_module": "@jupyter-widgets/controls",
      "model_module_version": "1.5.0",
      "model_name": "HTMLModel",
      "state": {
       "layout": "IPY_MODEL_c5c3e9cf3ed245eba50cdfc626a9ccb9",
       "style": "IPY_MODEL_e33f0c3c863947939d3057a05aa0814f",
       "value": "100%"
      }
     },
     "8845b053ad1f4557bc008bfc4edad36e": {
      "model_module": "@jupyter-widgets/base",
      "model_module_version": "1.2.0",
      "model_name": "LayoutModel",
      "state": {}
     },
     "894d6dc689b04de7822c63cad14a9adc": {
      "model_module": "@jupyter-widgets/base",
      "model_module_version": "1.2.0",
      "model_name": "LayoutModel",
      "state": {}
     },
     "8966330fe49f41dfae8b24755b1db89c": {
      "model_module": "@jupyter-widgets/controls",
      "model_module_version": "1.5.0",
      "model_name": "FloatProgressModel",
      "state": {
       "bar_style": "success",
       "layout": "IPY_MODEL_b00be4a8f97641019300a35b75dd9a07",
       "max": 2,
       "style": "IPY_MODEL_a77bb952eae642eaa543dde13582b2e8",
       "value": 2
      }
     },
     "89b472b550304ffea72551772e7c5cea": {
      "model_module": "@jupyter-widgets/controls",
      "model_module_version": "1.5.0",
      "model_name": "DescriptionStyleModel",
      "state": {
       "description_width": ""
      }
     },
     "8ab9338e236a47e2aa9c2044d8259514": {
      "model_module": "@jupyter-widgets/base",
      "model_module_version": "1.2.0",
      "model_name": "LayoutModel",
      "state": {}
     },
     "8bb8b33f088844fdb0953f13e8d0c67f": {
      "model_module": "@jupyter-widgets/base",
      "model_module_version": "1.2.0",
      "model_name": "LayoutModel",
      "state": {}
     },
     "8e4b3024bbe0452ebe434502dc35e8ba": {
      "model_module": "@jupyter-widgets/controls",
      "model_module_version": "1.5.0",
      "model_name": "HBoxModel",
      "state": {
       "children": [
        "IPY_MODEL_1c9bdec170f948879ededdfb4a884e8c",
        "IPY_MODEL_c04a9050f5294414bd74a04d776b578c",
        "IPY_MODEL_dded3e15d24743168a6e21074d2d2569"
       ],
       "layout": "IPY_MODEL_8bb8b33f088844fdb0953f13e8d0c67f"
      }
     },
     "8f3dd7bf7c5c41a69b08aac9632457a1": {
      "model_module": "@jupyter-widgets/controls",
      "model_module_version": "1.5.0",
      "model_name": "FloatProgressModel",
      "state": {
       "bar_style": "success",
       "layout": "IPY_MODEL_6f284523b0b64c4c9799c8f8b2621cc6",
       "max": 117500,
       "style": "IPY_MODEL_30ccc13596ee47e9a87afc0043c6de64",
       "value": 117500
      }
     },
     "907f48de05184ca389be857bfdbdab30": {
      "model_module": "@jupyter-widgets/base",
      "model_module_version": "1.2.0",
      "model_name": "LayoutModel",
      "state": {}
     },
     "91de2f44541e4c40806d56f1871df73e": {
      "model_module": "@jupyter-widgets/controls",
      "model_module_version": "1.5.0",
      "model_name": "HTMLModel",
      "state": {
       "layout": "IPY_MODEL_6ae573bae20b4f1f932f98cad45355bc",
       "style": "IPY_MODEL_9adea2d9678e4b9180b49f5a6129b83a",
       "value": " 0/117500 [00:00&lt;?, ?ex/s]"
      }
     },
     "9401d62f653c46f984b1ee7ce4a1ece2": {
      "model_module": "@jupyter-widgets/controls",
      "model_module_version": "1.5.0",
      "model_name": "DescriptionStyleModel",
      "state": {
       "description_width": ""
      }
     },
     "9654e4253d304725bdceada7ef7acf32": {
      "model_module": "@jupyter-widgets/controls",
      "model_module_version": "1.5.0",
      "model_name": "FloatProgressModel",
      "state": {
       "bar_style": "success",
       "layout": "IPY_MODEL_3dfc97ac666142598baad37534e161ad",
       "max": 117500,
       "style": "IPY_MODEL_c0c320e70453475985cc4b454e3603dd",
       "value": 117500
      }
     },
     "9adea2d9678e4b9180b49f5a6129b83a": {
      "model_module": "@jupyter-widgets/controls",
      "model_module_version": "1.5.0",
      "model_name": "DescriptionStyleModel",
      "state": {
       "description_width": ""
      }
     },
     "9b027bdd58a34ed59a54c7ddd0398d54": {
      "model_module": "@jupyter-widgets/base",
      "model_module_version": "1.2.0",
      "model_name": "LayoutModel",
      "state": {}
     },
     "9b76442a0b2a4d409e7fe46816a57745": {
      "model_module": "@jupyter-widgets/controls",
      "model_module_version": "1.5.0",
      "model_name": "ProgressStyleModel",
      "state": {
       "description_width": ""
      }
     },
     "9cf988e149a04185a56d9b6440053ab6": {
      "model_module": "@jupyter-widgets/controls",
      "model_module_version": "1.5.0",
      "model_name": "DescriptionStyleModel",
      "state": {
       "description_width": ""
      }
     },
     "9d5129d7380941f2a02e0600a47f76ec": {
      "model_module": "@jupyter-widgets/controls",
      "model_module_version": "1.5.0",
      "model_name": "HBoxModel",
      "state": {
       "children": [
        "IPY_MODEL_854b9739e1984e73b70a5ffab4fdc120",
        "IPY_MODEL_30a262ffbab94cf289b815cb231b15dd",
        "IPY_MODEL_f4813be9e0364652a09c39c9f8292be9"
       ],
       "layout": "IPY_MODEL_e58f1ae530624a29847906f3c00d71af"
      }
     },
     "a05f84f7b0254dd7b04b239b162f647d": {
      "model_module": "@jupyter-widgets/controls",
      "model_module_version": "1.5.0",
      "model_name": "FloatProgressModel",
      "state": {
       "bar_style": "danger",
       "layout": "IPY_MODEL_32006906f70f4741899fa4ee24439830",
       "max": 117500,
       "style": "IPY_MODEL_56efb49cb63643cc8a31286c5e4315c0"
      }
     },
     "a0e72e327cb6429d80d50d66c24a17ef": {
      "model_module": "@jupyter-widgets/base",
      "model_module_version": "1.2.0",
      "model_name": "LayoutModel",
      "state": {}
     },
     "a1c542aaa56644da98e48560e3796ae0": {
      "model_module": "@jupyter-widgets/controls",
      "model_module_version": "1.5.0",
      "model_name": "DescriptionStyleModel",
      "state": {
       "description_width": ""
      }
     },
     "a77bb952eae642eaa543dde13582b2e8": {
      "model_module": "@jupyter-widgets/controls",
      "model_module_version": "1.5.0",
      "model_name": "ProgressStyleModel",
      "state": {
       "description_width": ""
      }
     },
     "aa125162ca724d449138311f9ef33d54": {
      "model_module": "@jupyter-widgets/controls",
      "model_module_version": "1.5.0",
      "model_name": "FloatProgressModel",
      "state": {
       "bar_style": "success",
       "layout": "IPY_MODEL_2bd19bc4f99647b286303223dcfa61c6",
       "max": 117500,
       "style": "IPY_MODEL_183955ca81024ed2a728c570d3956f40",
       "value": 117500
      }
     },
     "aaa82b0b23344dc4bc6742d6bbf3b2b5": {
      "model_module": "@jupyter-widgets/controls",
      "model_module_version": "1.5.0",
      "model_name": "DescriptionStyleModel",
      "state": {
       "description_width": ""
      }
     },
     "b00be4a8f97641019300a35b75dd9a07": {
      "model_module": "@jupyter-widgets/base",
      "model_module_version": "1.2.0",
      "model_name": "LayoutModel",
      "state": {}
     },
     "b09298f00aca4f2fb3ad995f1e75d277": {
      "model_module": "@jupyter-widgets/controls",
      "model_module_version": "1.5.0",
      "model_name": "HTMLModel",
      "state": {
       "layout": "IPY_MODEL_d036d15978944b118a22fb934d71dd4a",
       "style": "IPY_MODEL_9cf988e149a04185a56d9b6440053ab6",
       "value": "100%"
      }
     },
     "b0c4f84c8c604b84840f06493f97848a": {
      "model_module": "@jupyter-widgets/controls",
      "model_module_version": "1.5.0",
      "model_name": "HBoxModel",
      "state": {
       "children": [
        "IPY_MODEL_e0f4f48081c347b9ac164b6412dfd5ce",
        "IPY_MODEL_5c10256f687d4972b75020d6f491d05e",
        "IPY_MODEL_cc7459c3d20f43b0a2ec605553d0642e"
       ],
       "layout": "IPY_MODEL_de975a2de6634da48e1b85de5ded4325"
      }
     },
     "b1a893bcf9d04832a6b4518ec608b35a": {
      "model_module": "@jupyter-widgets/controls",
      "model_module_version": "1.5.0",
      "model_name": "DescriptionStyleModel",
      "state": {
       "description_width": ""
      }
     },
     "bf79324037f447d99062d143b3a3771a": {
      "model_module": "@jupyter-widgets/controls",
      "model_module_version": "1.5.0",
      "model_name": "HTMLModel",
      "state": {
       "layout": "IPY_MODEL_100073f50a6f429d91af5c8ee2f1ca39",
       "style": "IPY_MODEL_a1c542aaa56644da98e48560e3796ae0",
       "value": " 117500/117500 [00:17&lt;00:00, 6503.91ex/s]"
      }
     },
     "c04a9050f5294414bd74a04d776b578c": {
      "model_module": "@jupyter-widgets/controls",
      "model_module_version": "1.5.0",
      "model_name": "FloatProgressModel",
      "state": {
       "bar_style": "success",
       "layout": "IPY_MODEL_8845b053ad1f4557bc008bfc4edad36e",
       "max": 2,
       "style": "IPY_MODEL_c4ac340fba614a868743cd7ca01fa794",
       "value": 2
      }
     },
     "c0c320e70453475985cc4b454e3603dd": {
      "model_module": "@jupyter-widgets/controls",
      "model_module_version": "1.5.0",
      "model_name": "ProgressStyleModel",
      "state": {
       "description_width": ""
      }
     },
     "c4ac340fba614a868743cd7ca01fa794": {
      "model_module": "@jupyter-widgets/controls",
      "model_module_version": "1.5.0",
      "model_name": "ProgressStyleModel",
      "state": {
       "description_width": ""
      }
     },
     "c4e189e3a1cc48478dd8ac966fce1366": {
      "model_module": "@jupyter-widgets/controls",
      "model_module_version": "1.5.0",
      "model_name": "FloatProgressModel",
      "state": {
       "bar_style": "success",
       "layout": "IPY_MODEL_04ce5712b57b4c5caa3586f9228c2a37",
       "max": 117500,
       "style": "IPY_MODEL_6aac9684f8334c4896d4cca70db42644",
       "value": 117500
      }
     },
     "c5c3e9cf3ed245eba50cdfc626a9ccb9": {
      "model_module": "@jupyter-widgets/base",
      "model_module_version": "1.2.0",
      "model_name": "LayoutModel",
      "state": {}
     },
     "ca5ef249d2064e89a847b1de2a8819cc": {
      "model_module": "@jupyter-widgets/controls",
      "model_module_version": "1.5.0",
      "model_name": "DescriptionStyleModel",
      "state": {
       "description_width": ""
      }
     },
     "caa9b5115caf43c0a96c226271e11b9f": {
      "model_module": "@jupyter-widgets/base",
      "model_module_version": "1.2.0",
      "model_name": "LayoutModel",
      "state": {}
     },
     "cbe759dc7eda43df806fde377b9fb09b": {
      "model_module": "@jupyter-widgets/base",
      "model_module_version": "1.2.0",
      "model_name": "LayoutModel",
      "state": {}
     },
     "cc7459c3d20f43b0a2ec605553d0642e": {
      "model_module": "@jupyter-widgets/controls",
      "model_module_version": "1.5.0",
      "model_name": "HTMLModel",
      "state": {
       "layout": "IPY_MODEL_caa9b5115caf43c0a96c226271e11b9f",
       "style": "IPY_MODEL_cc74d891df36416f8863fa52dad60544",
       "value": " 117500/117500 [00:15&lt;00:00, 7594.96ex/s]"
      }
     },
     "cc74d891df36416f8863fa52dad60544": {
      "model_module": "@jupyter-widgets/controls",
      "model_module_version": "1.5.0",
      "model_name": "DescriptionStyleModel",
      "state": {
       "description_width": ""
      }
     },
     "cf2ecc83faa943d7afa550c3b353a384": {
      "model_module": "@jupyter-widgets/controls",
      "model_module_version": "1.5.0",
      "model_name": "DescriptionStyleModel",
      "state": {
       "description_width": ""
      }
     },
     "d036d15978944b118a22fb934d71dd4a": {
      "model_module": "@jupyter-widgets/base",
      "model_module_version": "1.2.0",
      "model_name": "LayoutModel",
      "state": {}
     },
     "d31ea88ec4064738963e8dc6c72826de": {
      "model_module": "@jupyter-widgets/controls",
      "model_module_version": "1.5.0",
      "model_name": "DescriptionStyleModel",
      "state": {
       "description_width": ""
      }
     },
     "d4e3e5dc341e4443950b53d995a2476d": {
      "model_module": "@jupyter-widgets/controls",
      "model_module_version": "1.5.0",
      "model_name": "DescriptionStyleModel",
      "state": {
       "description_width": ""
      }
     },
     "d5f6340a49394cf098d464c7813e43c6": {
      "model_module": "@jupyter-widgets/controls",
      "model_module_version": "1.5.0",
      "model_name": "HBoxModel",
      "state": {
       "children": [
        "IPY_MODEL_7c03fc68905f40f385121dbe63ce79d6",
        "IPY_MODEL_9654e4253d304725bdceada7ef7acf32",
        "IPY_MODEL_4dc94cb802964194992e6b88ea480322"
       ],
       "layout": "IPY_MODEL_894d6dc689b04de7822c63cad14a9adc"
      }
     },
     "d70db648d64c4e879e95806fc8b507eb": {
      "model_module": "@jupyter-widgets/base",
      "model_module_version": "1.2.0",
      "model_name": "LayoutModel",
      "state": {}
     },
     "d9150022d29a4b7fb6e7fad9b21d9a88": {
      "model_module": "@jupyter-widgets/base",
      "model_module_version": "1.2.0",
      "model_name": "LayoutModel",
      "state": {}
     },
     "da09f547331e46809beabb819920a731": {
      "model_module": "@jupyter-widgets/base",
      "model_module_version": "1.2.0",
      "model_name": "LayoutModel",
      "state": {}
     },
     "dd93157e203846669cdf8ade3bc09d4a": {
      "model_module": "@jupyter-widgets/base",
      "model_module_version": "1.2.0",
      "model_name": "LayoutModel",
      "state": {}
     },
     "dded3e15d24743168a6e21074d2d2569": {
      "model_module": "@jupyter-widgets/controls",
      "model_module_version": "1.5.0",
      "model_name": "HTMLModel",
      "state": {
       "layout": "IPY_MODEL_d9150022d29a4b7fb6e7fad9b21d9a88",
       "style": "IPY_MODEL_7f05174990664a1e9e5baf1baa100e54",
       "value": " 2/2 [00:00&lt;00:00, 79.02it/s]"
      }
     },
     "de1d7c39e668475885610d3cf6acbd8b": {
      "model_module": "@jupyter-widgets/base",
      "model_module_version": "1.2.0",
      "model_name": "LayoutModel",
      "state": {}
     },
     "de975a2de6634da48e1b85de5ded4325": {
      "model_module": "@jupyter-widgets/base",
      "model_module_version": "1.2.0",
      "model_name": "LayoutModel",
      "state": {}
     },
     "e0f4f48081c347b9ac164b6412dfd5ce": {
      "model_module": "@jupyter-widgets/controls",
      "model_module_version": "1.5.0",
      "model_name": "HTMLModel",
      "state": {
       "layout": "IPY_MODEL_cbe759dc7eda43df806fde377b9fb09b",
       "style": "IPY_MODEL_696f83b069604f238430c23d68a9d27c",
       "value": "100%"
      }
     },
     "e33f0c3c863947939d3057a05aa0814f": {
      "model_module": "@jupyter-widgets/controls",
      "model_module_version": "1.5.0",
      "model_name": "DescriptionStyleModel",
      "state": {
       "description_width": ""
      }
     },
     "e58f1ae530624a29847906f3c00d71af": {
      "model_module": "@jupyter-widgets/base",
      "model_module_version": "1.2.0",
      "model_name": "LayoutModel",
      "state": {}
     },
     "e691394871b14914813777ab53565c8a": {
      "model_module": "@jupyter-widgets/base",
      "model_module_version": "1.2.0",
      "model_name": "LayoutModel",
      "state": {}
     },
     "e808560a963f4803984dd4485c3d1017": {
      "model_module": "@jupyter-widgets/controls",
      "model_module_version": "1.5.0",
      "model_name": "DescriptionStyleModel",
      "state": {
       "description_width": ""
      }
     },
     "e93a8dee8df14259a04e3c3ca8405bac": {
      "model_module": "@jupyter-widgets/controls",
      "model_module_version": "1.5.0",
      "model_name": "HBoxModel",
      "state": {
       "children": [
        "IPY_MODEL_734c06a5bce84de6924b65c07fe10efa",
        "IPY_MODEL_8f3dd7bf7c5c41a69b08aac9632457a1",
        "IPY_MODEL_2035d6d6f89c4c39922582a9b45be35d"
       ],
       "layout": "IPY_MODEL_fdadc424a75e4907821add3614a86230"
      }
     },
     "e9b5a56557954edea428ae6798372753": {
      "model_module": "@jupyter-widgets/controls",
      "model_module_version": "1.5.0",
      "model_name": "HTMLModel",
      "state": {
       "layout": "IPY_MODEL_6e011e0efe9c40a39b5574c797099765",
       "style": "IPY_MODEL_d31ea88ec4064738963e8dc6c72826de",
       "value": "100%"
      }
     },
     "ee3842bb9d314d11aebe957f79d094dc": {
      "model_module": "@jupyter-widgets/base",
      "model_module_version": "1.2.0",
      "model_name": "LayoutModel",
      "state": {}
     },
     "f0adb2029c3146afb6597f9010de75b9": {
      "model_module": "@jupyter-widgets/base",
      "model_module_version": "1.2.0",
      "model_name": "LayoutModel",
      "state": {}
     },
     "f1c5113b905f4f24bca79030e8977253": {
      "model_module": "@jupyter-widgets/base",
      "model_module_version": "1.2.0",
      "model_name": "LayoutModel",
      "state": {}
     },
     "f4813be9e0364652a09c39c9f8292be9": {
      "model_module": "@jupyter-widgets/controls",
      "model_module_version": "1.5.0",
      "model_name": "HTMLModel",
      "state": {
       "layout": "IPY_MODEL_04b5333bd54e4bfdb04e221f4c0d0ced",
       "style": "IPY_MODEL_5794a7cbde8d4ff4a0911aed9173eab1",
       "value": " 2/2 [00:00&lt;00:00, 124.34it/s]"
      }
     },
     "f534facd74394a8c8e5ed0afd69ec42a": {
      "model_module": "@jupyter-widgets/controls",
      "model_module_version": "1.5.0",
      "model_name": "FloatProgressModel",
      "state": {
       "bar_style": "danger",
       "layout": "IPY_MODEL_f0adb2029c3146afb6597f9010de75b9",
       "max": 117500,
       "style": "IPY_MODEL_225d4fde058c4ee980b80cc8cd837dea"
      }
     },
     "fdadc424a75e4907821add3614a86230": {
      "model_module": "@jupyter-widgets/base",
      "model_module_version": "1.2.0",
      "model_name": "LayoutModel",
      "state": {}
     }
    },
    "version_major": 2,
    "version_minor": 0
   }
  }
 },
 "nbformat": 4,
 "nbformat_minor": 5
}
