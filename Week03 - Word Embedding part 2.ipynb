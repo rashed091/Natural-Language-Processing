{
 "cells": [
  {
   "cell_type": "markdown",
   "metadata": {
    "colab_type": "text",
    "id": "VXl16AOdtlDk"
   },
   "source": [
    "# Word embeddings"
   ]
  },
  {
   "cell_type": "markdown",
   "metadata": {
    "colab_type": "text",
    "id": "ErZ_TOu0vAOR"
   },
   "source": [
    "![embeddings relations](https://www.tensorflow.org/images/linear-relationships.png)\n",
    "*From [Vector Representations of Words, Tensorflow tutorial](https://www.tensorflow.org/tutorials/representation/word2vec)*\n",
    "\n",
    "The main idea of embeddings is to have fixed length representations for the tokens in a text regardless of the number of tokens in the vocabulary. So instead of each token representation having the shape [1XV] where V is vocab size, each token now has the shape [1 X D] where D is the embedding size (usually 50, 100, 200, 300). The numbers in the representation will no longer be 0s and 1s but rather floats that represent that token in a D-dimensional latent space. If the embeddings really did capture the relationship between tokens, then we should be able to inspect this latent space and confirm known relationships (we'll do this soon).\n",
    "\n",
    "But how do we learn the embeddings the first place? The intuition behind embeddings is that the definition of a token depends on the token itself but on it's context. There are several different ways of doing this:\n",
    "\n",
    "1. Given the word in the context, predict the target word (CBOW - continuous bag of words).\n",
    "2. Given the target word, predict the context word (skip-gram).\n",
    "3. Given a sequence of words, predict the next word (LM - language modeling).\n",
    "\n",
    "All of these approaches involve create data to train our model on. Every word in a sentence becomes the target word and the context words are determines by a window. In the image below (skip-gram), the window size is 2. We repeat this for every sentence in our corpus and this results in our training data for the unsupervised task. This in an unsupervised learning technique since we don't have official labels for contexts. The idea is that similar target words will appear with similar contexts and we can learn this relationship by repeatedly training our mode with (context, target) pairs.\n",
    "\n",
    "<img src=\"https://raw.githubusercontent.com/GokuMohandas/practicalAI/master/images/skipgram.png\" width=600>\n",
    "\n",
    "We can learn embeddings using any of these approaches above and some work better than others. You can inspect the learned embeddings but the best way to choose an approach is to empirically validate the performance on a supervised task. We can learn embeddings by creating our models in PyTorch but instead, we're going to use a library that specializes in embeddings and topic modeling called [Gensim](https://radimrehurek.com/gensim/). "
   ]
  },
  {
   "cell_type": "markdown",
   "metadata": {
    "colab_type": "text",
    "id": "FkxsGQqZNjxj"
   },
   "source": [
    "## We train a simple model"
   ]
  },
  {
   "cell_type": "markdown",
   "metadata": {
    "colab_type": "text",
    "id": "PaOn69Bg1hH-"
   },
   "source": [
    "t’s just not fun to just look at other people's models, so we’ll gradually come closer to solving a specific task: [Quora Question Pairs at kaggle](https://www.kaggle.com/c/quora-question-pairs):"
   ]
  },
  {
   "cell_type": "code",
   "execution_count": 58,
   "metadata": {},
   "outputs": [],
   "source": [
    "import re\n",
    "import spacy\n",
    "import pandas as pd\n",
    "import gensim\n",
    "from gensim.models import Word2Vec\n",
    "\n",
    "nlp = spacy.load('en', disable=['tagger', 'ner'])\n",
    "# nlp.max_length = 1500000"
   ]
  },
  {
   "cell_type": "code",
   "execution_count": 59,
   "metadata": {
    "colab": {},
    "colab_type": "code",
    "id": "K-X7I7nc1gyS"
   },
   "outputs": [],
   "source": [
    "sentences = []\n",
    "with open('.data/harrypotter.txt', encoding='cp1252') as fp:\n",
    "    for chunk in iter(lambda: fp.read(20480), b''):\n",
    "        if len(chunk) == 0:\n",
    "            break\n",
    "        doc = nlp(chunk)\n",
    "        sentences.extend(list(doc.sents))"
   ]
  },
  {
   "cell_type": "code",
   "execution_count": 60,
   "metadata": {},
   "outputs": [],
   "source": [
    "# Preprocessing\n",
    "def preprocess_text(text):\n",
    "    text = ' '.join(word.lower() for word in text.split(\" \"))\n",
    "    text = re.sub(r\"([.,!?])\", r\" \\1 \", text)\n",
    "    text = re.sub(r\"[^a-zA-Z.,!?]+\", r\" \", text)\n",
    "    text = text.strip()\n",
    "    return text.split(\" \")"
   ]
  },
  {
   "cell_type": "code",
   "execution_count": 61,
   "metadata": {},
   "outputs": [
    {
     "name": "stdout",
     "output_type": "stream",
     "text": [
      "['but', 'i', 'hope', 'he', 'will', 'be', 'satisfied', '.']\n"
     ]
    }
   ],
   "source": [
    "# Clean sentences\n",
    "corpus = [preprocess_text(sentence.text) for sentence in sentences]\n",
    "print (corpus[11])"
   ]
  },
  {
   "cell_type": "markdown",
   "metadata": {
    "colab_type": "text",
    "id": "9kj4dC3iLdwH"
   },
   "source": [
    "\n",
    "Let's practice a small model on the received texts:"
   ]
  },
  {
   "cell_type": "code",
   "execution_count": 62,
   "metadata": {
    "colab": {},
    "colab_type": "code",
    "id": "9GNuiLio8M25"
   },
   "outputs": [
    {
     "name": "stdout",
     "output_type": "stream",
     "text": [
      "Word2Vec(vocab=4839, size=100, alpha=0.025)\n"
     ]
    }
   ],
   "source": [
    "# Super fast because of optimized C code under the hood\n",
    "model = Word2Vec(sentences=corpus, size=100, window=5, min_count=3, sg=1, negative=20)\n",
    "print (model)"
   ]
  },
  {
   "cell_type": "code",
   "execution_count": 63,
   "metadata": {},
   "outputs": [
    {
     "data": {
      "text/plain": [
       "array([ 0.09911099, -0.24065366, -0.12388526,  0.05252827, -0.02625669,\n",
       "       -0.2993732 ,  0.19113553, -0.52691233,  0.04682967,  0.20761159,\n",
       "       -0.16144556,  0.02848237,  0.05201204,  0.29872543,  0.44580722,\n",
       "       -0.02316459,  0.45354912,  0.15123558,  0.05068282,  0.09364508,\n",
       "       -0.20434359,  0.09209134, -0.22776553, -0.1760872 , -0.11605548,\n",
       "        0.14396948, -0.0313121 ,  0.37195832,  0.23463877, -0.27198496,\n",
       "       -0.12503941,  0.192079  , -0.20037068, -0.48973373,  0.41356143,\n",
       "       -0.06233199, -0.44322222, -0.06030791,  0.2340393 ,  0.23766144,\n",
       "        0.07633066,  0.40186253,  0.29663745,  0.29630676, -0.01898866,\n",
       "       -0.18158609,  0.22070901,  0.00694801,  0.25233084, -0.07824248,\n",
       "       -0.29054338, -0.31492782,  0.56950694,  0.474383  ,  0.4400003 ,\n",
       "       -0.28735897,  0.04533708, -0.04102612,  0.1684576 , -0.2378773 ,\n",
       "       -0.29382348, -0.01687524,  0.03385508,  0.27793425, -0.33548555,\n",
       "        0.29570255, -0.3437492 , -0.03587561, -0.09659985,  0.1878013 ,\n",
       "        0.12748703, -0.2917012 , -0.08684062,  0.0751825 , -0.14780474,\n",
       "        0.08324219,  0.30057028, -0.12351465, -0.28245765, -0.0386638 ,\n",
       "       -0.3370873 ,  0.1066057 , -0.47270983,  0.03778912, -0.22475405,\n",
       "       -0.3155682 ,  0.07549263, -0.29222193, -0.6308591 , -0.38425654,\n",
       "       -0.02733332, -0.27223936,  0.4547128 ,  0.69110525,  0.2416362 ,\n",
       "        0.05057543,  0.21315967,  0.30510512, -0.17139821, -0.18172686],\n",
       "      dtype=float32)"
      ]
     },
     "execution_count": 63,
     "metadata": {},
     "output_type": "execute_result"
    }
   ],
   "source": [
    "# Vector for each word\n",
    "model.wv.get_vector(\"potter\")"
   ]
  },
  {
   "cell_type": "code",
   "execution_count": 65,
   "metadata": {},
   "outputs": [
    {
     "data": {
      "text/plain": [
       "[('pain', 0.9314314126968384),\n",
       " ('burning', 0.9144282937049866),\n",
       " ('forehead', 0.9121128916740417),\n",
       " ('mouth', 0.9066875576972961),\n",
       " ('cold', 0.9046509265899658)]"
      ]
     },
     "execution_count": 65,
     "metadata": {},
     "output_type": "execute_result"
    }
   ],
   "source": [
    "# Get nearest neighbors (excluding itself)\n",
    "model.wv.most_similar(positive=\"scar\", topn=5)"
   ]
  },
  {
   "cell_type": "code",
   "execution_count": 90,
   "metadata": {},
   "outputs": [],
   "source": [
    "words = sorted(model.wv.vocab.keys(), key=lambda word: model.wv.vocab[word].count, reverse=True)[:100]"
   ]
  },
  {
   "cell_type": "markdown",
   "metadata": {
    "colab_type": "text",
    "id": "1FYuh4DKN1Fd"
   },
   "source": [
    "## Visualize the model"
   ]
  },
  {
   "cell_type": "markdown",
   "metadata": {
    "colab_type": "text",
    "id": "f7cgxin-OTvK"
   },
   "source": [
    "### PCA\n",
    "\n",
    "The simplest linear dimension reduction method is __P__rincipial __C__omponent __A__nalysis.\n",
    "\n",
    "The PCA searches for axes on which the data will have the largest scatter when projected.\n",
    "\n",
    "![pca](https://i.stack.imgur.com/Q7HIP.gif)\n",
    "\n",
    "As a result, you can take the projections onto the first few components - and save as much information as possible, reducing the dimension.\n",
    "\n",
    "Beautiful visualizations can be found [here] (http://setosa.io/ev/principal-component-analysis/).\n",
    "\n",
    "**Task** Use the PCA from sklearn, and then center and normalize the result."
   ]
  },
  {
   "cell_type": "code",
   "execution_count": 101,
   "metadata": {
    "colab": {},
    "colab_type": "code",
    "id": "V0fQKZw2Css4"
   },
   "outputs": [],
   "source": [
    "from sklearn.decomposition import PCA\n",
    "from sklearn.manifold import TSNE\n",
    "from sklearn import preprocessing\n",
    "import matplotlib.pyplot as plt\n",
    "\n",
    "X = model.wv[model.wv.vocab]\n",
    "pca = PCA(n_components=2)\n",
    "pca_results = pca.fit_transform(X)"
   ]
  },
  {
   "cell_type": "code",
   "execution_count": 98,
   "metadata": {
    "colab": {},
    "colab_type": "code",
    "id": "a_9VtLl9CviW"
   },
   "outputs": [
    {
     "data": {
      "image/png": "[encoded data removed]",
      "text/plain": [
       "<Figure size 1152x576 with 1 Axes>"
      ]
     },
     "metadata": {
      "needs_background": "light"
     },
     "output_type": "display_data"
    }
   ],
   "source": [
    "def plot_embeddings(words, embeddings, pca_results):\n",
    "    fig= plt.figure(figsize=(16,8))\n",
    "    for word in words:\n",
    "        index = model.wv.vocab[word].index\n",
    "        plt.scatter(pca_results[index, 0], pca_results[index, 1])\n",
    "        plt.annotate(word, xy=(pca_results[index, 0], pca_results[index, 1]))\n",
    "    plt.show()\n",
    "    \n",
    "plot_embeddings(words, embeddings=model, pca_results=pca_results)"
   ]
  },
  {
   "cell_type": "code",
   "execution_count": 102,
   "metadata": {},
   "outputs": [
    {
     "data": {
      "image/png": "[encoded data removed]",
      "text/plain": [
       "<Figure size 1152x576 with 1 Axes>"
      ]
     },
     "metadata": {
      "needs_background": "light"
     },
     "output_type": "display_data"
    }
   ],
   "source": [
    "pca_results = preprocessing.normalize(pca_results)\n",
    "pca_results = preprocessing.scale(pca_results, with_mean=0, with_std=1)\n",
    "\n",
    "plot_embeddings(words, embeddings=model, pca_results=pca_results)"
   ]
  },
  {
   "cell_type": "markdown",
   "metadata": {
    "colab_type": "text",
    "id": "VOIU8uXnSItf"
   },
   "source": [
    "### TSNE\n",
    "\n",
    "A more interesting and complex (non-linear) method for visualizing high-dimensional spaces is TSNE. You can look at it in detail [here] (https://distill.pub/2016/misread-tsne/) (even more beautiful pictures!).\n",
    "\n",
    "**Task** As with PCA, use TSNE from sklearn and normalize + center the result."
   ]
  },
  {
   "cell_type": "code",
   "execution_count": 109,
   "metadata": {
    "colab": {},
    "colab_type": "code",
    "id": "D_YFR_rYDK2n"
   },
   "outputs": [
    {
     "data": {
      "text/plain": [
       "<matplotlib.collections.PathCollection at 0x141b48d68>"
      ]
     },
     "execution_count": 109,
     "metadata": {},
     "output_type": "execute_result"
    },
    {
     "data": {
      "image/png": "[encoded data removed]",
      "text/plain": [
       "<Figure size 432x288 with 1 Axes>"
      ]
     },
     "metadata": {
      "needs_background": "light"
     },
     "output_type": "display_data"
    }
   ],
   "source": [
    "word_tsne = TSNE(n_components=2).fit_transform(X)\n",
    "plt.scatter(word_tsne[:, 0], word_tsne[:, 1])"
   ]
  },
  {
   "cell_type": "markdown",
   "metadata": {
    "colab_type": "text",
    "id": "sz6uHYMbSjuE"
   },
   "source": [
    "## Pretrained embeddings"
   ]
  },
  {
   "cell_type": "markdown",
   "metadata": {
    "colab_type": "text",
    "id": "L4GEypE4SokX"
   },
   "source": [
    "There are several different ways to use embeddings. \n",
    "​\n",
    "1. Use your own trained embeddings (trained on an unsupervised dataset).\n",
    "2. Use pretrained embeddings (GloVe, word2vec, etc.)\n",
    "3. Randomly initialized embeddings.\n",
    "​\n",
    "Once you have chosen embeddings, you can choose to freeze them or continue to train them using the supervised data (this could lead to overfitting). In this example, we're going to use GloVe embeddings and freeze them during training. Our task will be to predict an article's category given its title.\n",
    "\n",
    "Let's load already trained model.(see which models and models are available at all, by calling `api.info ()`)"
   ]
  },
  {
   "cell_type": "code",
   "execution_count": 5,
   "metadata": {
    "colab": {},
    "colab_type": "code",
    "id": "GUDRtumXXF3S"
   },
   "outputs": [
    {
     "data": {
      "text/plain": [
       "{'corpora': {'semeval-2016-2017-task3-subtaskBC': {'num_records': -1,\n",
       "   'record_format': 'dict',\n",
       "   'file_size': 6344358,\n",
       "   'reader_code': 'https://github.com/RaRe-Technologies/gensim-data/releases/download/semeval-2016-2017-task3-subtaskB-eng/__init__.py',\n",
       "   'license': 'All files released for the task are free for general research use',\n",
       "   'fields': {'2016-train': ['...'],\n",
       "    '2016-dev': ['...'],\n",
       "    '2017-test': ['...'],\n",
       "    '2016-test': ['...']},\n",
       "   'description': 'SemEval 2016 / 2017 Task 3 Subtask B and C datasets contain train+development (317 original questions, 3,169 related questions, and 31,690 comments), and test datasets in English. The description of the tasks and the collected data is given in sections 3 and 4.1 of the task paper http://alt.qcri.org/semeval2016/task3/data/uploads/semeval2016-task3-report.pdf linked in section “Papers” of https://github.com/RaRe-Technologies/gensim-data/issues/18.',\n",
       "   'checksum': '701ea67acd82e75f95e1d8e62fb0ad29',\n",
       "   'file_name': 'semeval-2016-2017-task3-subtaskBC.gz',\n",
       "   'read_more': ['http://alt.qcri.org/semeval2017/task3/',\n",
       "    'http://alt.qcri.org/semeval2017/task3/data/uploads/semeval2017-task3.pdf',\n",
       "    'https://github.com/RaRe-Technologies/gensim-data/issues/18',\n",
       "    'https://github.com/Witiko/semeval-2016_2017-task3-subtaskB-english'],\n",
       "   'parts': 1},\n",
       "  'semeval-2016-2017-task3-subtaskA-unannotated': {'num_records': 189941,\n",
       "   'record_format': 'dict',\n",
       "   'file_size': 234373151,\n",
       "   'reader_code': 'https://github.com/RaRe-Technologies/gensim-data/releases/download/semeval-2016-2017-task3-subtaskA-unannotated-eng/__init__.py',\n",
       "   'license': 'These datasets are free for general research use.',\n",
       "   'fields': {'THREAD_SEQUENCE': '',\n",
       "    'RelQuestion': {'RELQ_CATEGORY': 'question category, according to the Qatar Living taxonomy',\n",
       "     'RELQ_DATE': 'date of posting',\n",
       "     'RELQ_ID': 'question indentifier',\n",
       "     'RELQ_USERID': 'identifier of the user asking the question',\n",
       "     'RELQ_USERNAME': 'name of the user asking the question',\n",
       "     'RelQBody': 'body of question',\n",
       "     'RelQSubject': 'subject of question'},\n",
       "    'RelComments': [{'RelCText': 'text of answer',\n",
       "      'RELC_USERID': 'identifier of the user posting the comment',\n",
       "      'RELC_ID': 'comment identifier',\n",
       "      'RELC_USERNAME': 'name of the user posting the comment',\n",
       "      'RELC_DATE': 'date of posting'}]},\n",
       "   'description': 'SemEval 2016 / 2017 Task 3 Subtask A unannotated dataset contains 189,941 questions and 1,894,456 comments in English collected from the Community Question Answering (CQA) web forum of Qatar Living. These can be used as a corpus for language modelling.',\n",
       "   'checksum': '2de0e2f2c4f91c66ae4fcf58d50ba816',\n",
       "   'file_name': 'semeval-2016-2017-task3-subtaskA-unannotated.gz',\n",
       "   'read_more': ['http://alt.qcri.org/semeval2016/task3/',\n",
       "    'http://alt.qcri.org/semeval2016/task3/data/uploads/semeval2016-task3-report.pdf',\n",
       "    'https://github.com/RaRe-Technologies/gensim-data/issues/18',\n",
       "    'https://github.com/Witiko/semeval-2016_2017-task3-subtaskA-unannotated-english'],\n",
       "   'parts': 1},\n",
       "  'patent-2017': {'num_records': 353197,\n",
       "   'record_format': 'dict',\n",
       "   'file_size': 3087262469,\n",
       "   'reader_code': 'https://github.com/RaRe-Technologies/gensim-data/releases/download/patent-2017/__init__.py',\n",
       "   'license': 'not found',\n",
       "   'description': \"Patent Grant Full Text. Contains the full text including tables, sequence data and 'in-line' mathematical expressions of each patent grant issued in 2017.\",\n",
       "   'checksum-0': '818501f0b9af62d3b88294d86d509f8f',\n",
       "   'checksum-1': '66c05635c1d3c7a19b4a335829d09ffa',\n",
       "   'file_name': 'patent-2017.gz',\n",
       "   'read_more': ['http://patents.reedtech.com/pgrbft.php'],\n",
       "   'parts': 2},\n",
       "  'quora-duplicate-questions': {'num_records': 404290,\n",
       "   'record_format': 'dict',\n",
       "   'file_size': 21684784,\n",
       "   'reader_code': 'https://github.com/RaRe-Technologies/gensim-data/releases/download/quora-duplicate-questions/__init__.py',\n",
       "   'license': 'probably https://www.quora.com/about/tos',\n",
       "   'fields': {'question1': 'the full text of each question',\n",
       "    'question2': 'the full text of each question',\n",
       "    'qid1': 'unique ids of each question',\n",
       "    'qid2': 'unique ids of each question',\n",
       "    'id': 'the id of a training set question pair',\n",
       "    'is_duplicate': 'the target variable, set to 1 if question1 and question2 have essentially the same meaning, and 0 otherwise'},\n",
       "   'description': 'Over 400,000 lines of potential question duplicate pairs. Each line contains IDs for each question in the pair, the full text for each question, and a binary value that indicates whether the line contains a duplicate pair or not.',\n",
       "   'checksum': 'd7cfa7fbc6e2ec71ab74c495586c6365',\n",
       "   'file_name': 'quora-duplicate-questions.gz',\n",
       "   'read_more': ['https://data.quora.com/First-Quora-Dataset-Release-Question-Pairs'],\n",
       "   'parts': 1},\n",
       "  'wiki-english-20171001': {'num_records': 4924894,\n",
       "   'record_format': 'dict',\n",
       "   'file_size': 6516051717,\n",
       "   'reader_code': 'https://github.com/RaRe-Technologies/gensim-data/releases/download/wiki-english-20171001/__init__.py',\n",
       "   'license': 'https://dumps.wikimedia.org/legal.html',\n",
       "   'fields': {'section_texts': 'list of body of sections',\n",
       "    'section_titles': 'list of titles of sections',\n",
       "    'title': 'Title of wiki article'},\n",
       "   'description': 'Extracted Wikipedia dump from October 2017. Produced by `python -m gensim.scripts.segment_wiki -f enwiki-20171001-pages-articles.xml.bz2 -o wiki-en.gz`',\n",
       "   'checksum-0': 'a7d7d7fd41ea7e2d7fa32ec1bb640d71',\n",
       "   'checksum-1': 'b2683e3356ffbca3b6c2dca6e9801f9f',\n",
       "   'checksum-2': 'c5cde2a9ae77b3c4ebce804f6df542c2',\n",
       "   'checksum-3': '00b71144ed5e3aeeb885de84f7452b81',\n",
       "   'file_name': 'wiki-english-20171001.gz',\n",
       "   'read_more': ['https://dumps.wikimedia.org/enwiki/20171001/'],\n",
       "   'parts': 4},\n",
       "  'text8': {'num_records': 1701,\n",
       "   'record_format': 'list of str (tokens)',\n",
       "   'file_size': 33182058,\n",
       "   'reader_code': 'https://github.com/RaRe-Technologies/gensim-data/releases/download/text8/__init__.py',\n",
       "   'license': 'not found',\n",
       "   'description': 'First 100,000,000 bytes of plain text from Wikipedia. Used for testing purposes; see wiki-english-* for proper full Wikipedia datasets.',\n",
       "   'checksum': '68799af40b6bda07dfa47a32612e5364',\n",
       "   'file_name': 'text8.gz',\n",
       "   'read_more': ['http://mattmahoney.net/dc/textdata.html'],\n",
       "   'parts': 1},\n",
       "  'fake-news': {'num_records': 12999,\n",
       "   'record_format': 'dict',\n",
       "   'file_size': 20102776,\n",
       "   'reader_code': 'https://github.com/RaRe-Technologies/gensim-data/releases/download/fake-news/__init__.py',\n",
       "   'license': 'https://creativecommons.org/publicdomain/zero/1.0/',\n",
       "   'fields': {'crawled': 'date the story was archived',\n",
       "    'ord_in_thread': '',\n",
       "    'published': 'date published',\n",
       "    'participants_count': 'number of participants',\n",
       "    'shares': 'number of Facebook shares',\n",
       "    'replies_count': 'number of replies',\n",
       "    'main_img_url': 'image from story',\n",
       "    'spam_score': 'data from webhose.io',\n",
       "    'uuid': 'unique identifier',\n",
       "    'language': 'data from webhose.io',\n",
       "    'title': 'title of story',\n",
       "    'country': 'data from webhose.io',\n",
       "    'domain_rank': 'data from webhose.io',\n",
       "    'author': 'author of story',\n",
       "    'comments': 'number of Facebook comments',\n",
       "    'site_url': 'site URL from BS detector',\n",
       "    'text': 'text of story',\n",
       "    'thread_title': '',\n",
       "    'type': 'type of website (label from BS detector)',\n",
       "    'likes': 'number of Facebook likes'},\n",
       "   'description': \"News dataset, contains text and metadata from 244 websites and represents 12,999 posts in total from a specific window of 30 days. The data was pulled using the webhose.io API, and because it's coming from their crawler, not all websites identified by their BS Detector are present in this dataset. Data sources that were missing a label were simply assigned a label of 'bs'. There are (ostensibly) no genuine, reliable, or trustworthy news sources represented in this dataset (so far), so don't trust anything you read.\",\n",
       "   'checksum': '5e64e942df13219465927f92dcefd5fe',\n",
       "   'file_name': 'fake-news.gz',\n",
       "   'read_more': ['https://www.kaggle.com/mrisdal/fake-news'],\n",
       "   'parts': 1},\n",
       "  '20-newsgroups': {'num_records': 18846,\n",
       "   'record_format': 'dict',\n",
       "   'file_size': 14483581,\n",
       "   'reader_code': 'https://github.com/RaRe-Technologies/gensim-data/releases/download/20-newsgroups/__init__.py',\n",
       "   'license': 'not found',\n",
       "   'fields': {'topic': 'name of topic (20 variant of possible values)',\n",
       "    'set': \"marker of original split (possible values 'train' and 'test')\",\n",
       "    'data': '',\n",
       "    'id': 'original id inferred from folder name'},\n",
       "   'description': 'The notorious collection of approximately 20,000 newsgroup posts, partitioned (nearly) evenly across 20 different newsgroups.',\n",
       "   'checksum': 'c92fd4f6640a86d5ba89eaad818a9891',\n",
       "   'file_name': '20-newsgroups.gz',\n",
       "   'read_more': ['http://qwone.com/~jason/20Newsgroups/'],\n",
       "   'parts': 1},\n",
       "  '__testing_matrix-synopsis': {'description': '[THIS IS ONLY FOR TESTING] Synopsis of the movie matrix.',\n",
       "   'checksum': '1767ac93a089b43899d54944b07d9dc5',\n",
       "   'file_name': '__testing_matrix-synopsis.gz',\n",
       "   'read_more': ['http://www.imdb.com/title/tt0133093/plotsummary?ref_=ttpl_pl_syn#synopsis'],\n",
       "   'parts': 1},\n",
       "  '__testing_multipart-matrix-synopsis': {'description': '[THIS IS ONLY FOR TESTING] Synopsis of the movie matrix.',\n",
       "   'checksum-0': 'c8b0c7d8cf562b1b632c262a173ac338',\n",
       "   'checksum-1': '5ff7fc6818e9a5d9bc1cf12c35ed8b96',\n",
       "   'checksum-2': '966db9d274d125beaac7987202076cba',\n",
       "   'file_name': '__testing_multipart-matrix-synopsis.gz',\n",
       "   'read_more': ['http://www.imdb.com/title/tt0133093/plotsummary?ref_=ttpl_pl_syn#synopsis'],\n",
       "   'parts': 3}},\n",
       " 'models': {'fasttext-wiki-news-subwords-300': {'num_records': 999999,\n",
       "   'file_size': 1005007116,\n",
       "   'base_dataset': 'Wikipedia 2017, UMBC webbase corpus and statmt.org news dataset (16B tokens)',\n",
       "   'reader_code': 'https://github.com/RaRe-Technologies/gensim-data/releases/download/fasttext-wiki-news-subwords-300/__init__.py',\n",
       "   'license': 'https://creativecommons.org/licenses/by-sa/3.0/',\n",
       "   'parameters': {'dimension': 300},\n",
       "   'description': '1 million word vectors trained on Wikipedia 2017, UMBC webbase corpus and statmt.org news dataset (16B tokens).',\n",
       "   'read_more': ['https://fasttext.cc/docs/en/english-vectors.html',\n",
       "    'https://arxiv.org/abs/1712.09405',\n",
       "    'https://arxiv.org/abs/1607.01759'],\n",
       "   'checksum': 'de2bb3a20c46ce65c9c131e1ad9a77af',\n",
       "   'file_name': 'fasttext-wiki-news-subwords-300.gz',\n",
       "   'parts': 1},\n",
       "  'conceptnet-numberbatch-17-06-300': {'num_records': 1917247,\n",
       "   'file_size': 1225497562,\n",
       "   'base_dataset': 'ConceptNet, word2vec, GloVe, and OpenSubtitles 2016',\n",
       "   'reader_code': 'https://github.com/RaRe-Technologies/gensim-data/releases/download/conceptnet-numberbatch-17-06-300/__init__.py',\n",
       "   'license': 'https://github.com/commonsense/conceptnet-numberbatch/blob/master/LICENSE.txt',\n",
       "   'parameters': {'dimension': 300},\n",
       "   'description': 'ConceptNet Numberbatch consists of state-of-the-art semantic vectors (also known as word embeddings) that can be used directly as a representation of word meanings or as a starting point for further machine learning. ConceptNet Numberbatch is part of the ConceptNet open data project. ConceptNet provides lots of ways to compute with word meanings, one of which is word embeddings. ConceptNet Numberbatch is a snapshot of just the word embeddings. It is built using an ensemble that combines data from ConceptNet, word2vec, GloVe, and OpenSubtitles 2016, using a variation on retrofitting.',\n",
       "   'read_more': ['http://aaai.org/ocs/index.php/AAAI/AAAI17/paper/view/14972',\n",
       "    'https://github.com/commonsense/conceptnet-numberbatch',\n",
       "    'http://conceptnet.io/'],\n",
       "   'checksum': 'fd642d457adcd0ea94da0cd21b150847',\n",
       "   'file_name': 'conceptnet-numberbatch-17-06-300.gz',\n",
       "   'parts': 1},\n",
       "  'word2vec-ruscorpora-300': {'num_records': 184973,\n",
       "   'file_size': 208427381,\n",
       "   'base_dataset': 'Russian National Corpus (about 250M words)',\n",
       "   'reader_code': 'https://github.com/RaRe-Technologies/gensim-data/releases/download/word2vec-ruscorpora-300/__init__.py',\n",
       "   'license': 'https://creativecommons.org/licenses/by/4.0/deed.en',\n",
       "   'parameters': {'dimension': 300, 'window_size': 10},\n",
       "   'description': 'Word2vec Continuous Skipgram vectors trained on full Russian National Corpus (about 250M words). The model contains 185K words.',\n",
       "   'preprocessing': 'The corpus was lemmatized and tagged with Universal PoS',\n",
       "   'read_more': ['https://www.academia.edu/24306935/WebVectors_a_Toolkit_for_Building_Web_Interfaces_for_Vector_Semantic_Models',\n",
       "    'http://rusvectores.org/en/',\n",
       "    'https://github.com/RaRe-Technologies/gensim-data/issues/3'],\n",
       "   'checksum': '9bdebdc8ae6d17d20839dd9b5af10bc4',\n",
       "   'file_name': 'word2vec-ruscorpora-300.gz',\n",
       "   'parts': 1},\n",
       "  'word2vec-google-news-300': {'num_records': 3000000,\n",
       "   'file_size': 1743563840,\n",
       "   'base_dataset': 'Google News (about 100 billion words)',\n",
       "   'reader_code': 'https://github.com/RaRe-Technologies/gensim-data/releases/download/word2vec-google-news-300/__init__.py',\n",
       "   'license': 'not found',\n",
       "   'parameters': {'dimension': 300},\n",
       "   'description': \"Pre-trained vectors trained on a part of the Google News dataset (about 100 billion words). The model contains 300-dimensional vectors for 3 million words and phrases. The phrases were obtained using a simple data-driven approach described in 'Distributed Representations of Words and Phrases and their Compositionality' (https://code.google.com/archive/p/word2vec/).\",\n",
       "   'read_more': ['https://code.google.com/archive/p/word2vec/',\n",
       "    'https://arxiv.org/abs/1301.3781',\n",
       "    'https://arxiv.org/abs/1310.4546',\n",
       "    'https://www.microsoft.com/en-us/research/publication/linguistic-regularities-in-continuous-space-word-representations/?from=http%3A%2F%2Fresearch.microsoft.com%2Fpubs%2F189726%2Frvecs.pdf'],\n",
       "   'checksum': 'a5e5354d40acb95f9ec66d5977d140ef',\n",
       "   'file_name': 'word2vec-google-news-300.gz',\n",
       "   'parts': 1},\n",
       "  'glove-wiki-gigaword-50': {'num_records': 400000,\n",
       "   'file_size': 69182535,\n",
       "   'base_dataset': 'Wikipedia 2014 + Gigaword 5 (6B tokens, uncased)',\n",
       "   'reader_code': 'https://github.com/RaRe-Technologies/gensim-data/releases/download/glove-wiki-gigaword-50/__init__.py',\n",
       "   'license': 'http://opendatacommons.org/licenses/pddl/',\n",
       "   'parameters': {'dimension': 50},\n",
       "   'description': 'Pre-trained vectors based on Wikipedia 2014 + Gigaword, 5.6B tokens, 400K vocab, uncased (https://nlp.stanford.edu/projects/glove/).',\n",
       "   'preprocessing': 'Converted to w2v format with `python -m gensim.scripts.glove2word2vec -i <fname> -o glove-wiki-gigaword-50.txt`.',\n",
       "   'read_more': ['https://nlp.stanford.edu/projects/glove/',\n",
       "    'https://nlp.stanford.edu/pubs/glove.pdf'],\n",
       "   'checksum': 'c289bc5d7f2f02c6dc9f2f9b67641813',\n",
       "   'file_name': 'glove-wiki-gigaword-50.gz',\n",
       "   'parts': 1},\n",
       "  'glove-wiki-gigaword-100': {'num_records': 400000,\n",
       "   'file_size': 134300434,\n",
       "   'base_dataset': 'Wikipedia 2014 + Gigaword 5 (6B tokens, uncased)',\n",
       "   'reader_code': 'https://github.com/RaRe-Technologies/gensim-data/releases/download/glove-wiki-gigaword-100/__init__.py',\n",
       "   'license': 'http://opendatacommons.org/licenses/pddl/',\n",
       "   'parameters': {'dimension': 100},\n",
       "   'description': 'Pre-trained vectors based on Wikipedia 2014 + Gigaword 5.6B tokens, 400K vocab, uncased (https://nlp.stanford.edu/projects/glove/).',\n",
       "   'preprocessing': 'Converted to w2v format with `python -m gensim.scripts.glove2word2vec -i <fname> -o glove-wiki-gigaword-100.txt`.',\n",
       "   'read_more': ['https://nlp.stanford.edu/projects/glove/',\n",
       "    'https://nlp.stanford.edu/pubs/glove.pdf'],\n",
       "   'checksum': '40ec481866001177b8cd4cb0df92924f',\n",
       "   'file_name': 'glove-wiki-gigaword-100.gz',\n",
       "   'parts': 1},\n",
       "  'glove-wiki-gigaword-200': {'num_records': 400000,\n",
       "   'file_size': 264336934,\n",
       "   'base_dataset': 'Wikipedia 2014 + Gigaword 5 (6B tokens, uncased)',\n",
       "   'reader_code': 'https://github.com/RaRe-Technologies/gensim-data/releases/download/glove-wiki-gigaword-200/__init__.py',\n",
       "   'license': 'http://opendatacommons.org/licenses/pddl/',\n",
       "   'parameters': {'dimension': 200},\n",
       "   'description': 'Pre-trained vectors based on Wikipedia 2014 + Gigaword, 5.6B tokens, 400K vocab, uncased (https://nlp.stanford.edu/projects/glove/).',\n",
       "   'preprocessing': 'Converted to w2v format with `python -m gensim.scripts.glove2word2vec -i <fname> -o glove-wiki-gigaword-200.txt`.',\n",
       "   'read_more': ['https://nlp.stanford.edu/projects/glove/',\n",
       "    'https://nlp.stanford.edu/pubs/glove.pdf'],\n",
       "   'checksum': '59652db361b7a87ee73834a6c391dfc1',\n",
       "   'file_name': 'glove-wiki-gigaword-200.gz',\n",
       "   'parts': 1},\n",
       "  'glove-wiki-gigaword-300': {'num_records': 400000,\n",
       "   'file_size': 394362229,\n",
       "   'base_dataset': 'Wikipedia 2014 + Gigaword 5 (6B tokens, uncased)',\n",
       "   'reader_code': 'https://github.com/RaRe-Technologies/gensim-data/releases/download/glove-wiki-gigaword-300/__init__.py',\n",
       "   'license': 'http://opendatacommons.org/licenses/pddl/',\n",
       "   'parameters': {'dimension': 300},\n",
       "   'description': 'Pre-trained vectors based on Wikipedia 2014 + Gigaword, 5.6B tokens, 400K vocab, uncased (https://nlp.stanford.edu/projects/glove/).',\n",
       "   'preprocessing': 'Converted to w2v format with `python -m gensim.scripts.glove2word2vec -i <fname> -o glove-wiki-gigaword-300.txt`.',\n",
       "   'read_more': ['https://nlp.stanford.edu/projects/glove/',\n",
       "    'https://nlp.stanford.edu/pubs/glove.pdf'],\n",
       "   'checksum': '29e9329ac2241937d55b852e8284e89b',\n",
       "   'file_name': 'glove-wiki-gigaword-300.gz',\n",
       "   'parts': 1},\n",
       "  'glove-twitter-25': {'num_records': 1193514,\n",
       "   'file_size': 109885004,\n",
       "   'base_dataset': 'Twitter (2B tweets, 27B tokens, 1.2M vocab, uncased)',\n",
       "   'reader_code': 'https://github.com/RaRe-Technologies/gensim-data/releases/download/glove-twitter-25/__init__.py',\n",
       "   'license': 'http://opendatacommons.org/licenses/pddl/',\n",
       "   'parameters': {'dimension': 25},\n",
       "   'description': 'Pre-trained vectors based on 2B tweets, 27B tokens, 1.2M vocab, uncased (https://nlp.stanford.edu/projects/glove/).',\n",
       "   'preprocessing': 'Converted to w2v format with `python -m gensim.scripts.glove2word2vec -i <fname> -o glove-twitter-25.txt`.',\n",
       "   'read_more': ['https://nlp.stanford.edu/projects/glove/',\n",
       "    'https://nlp.stanford.edu/pubs/glove.pdf'],\n",
       "   'checksum': '50db0211d7e7a2dcd362c6b774762793',\n",
       "   'file_name': 'glove-twitter-25.gz',\n",
       "   'parts': 1},\n",
       "  'glove-twitter-50': {'num_records': 1193514,\n",
       "   'file_size': 209216938,\n",
       "   'base_dataset': 'Twitter (2B tweets, 27B tokens, 1.2M vocab, uncased)',\n",
       "   'reader_code': 'https://github.com/RaRe-Technologies/gensim-data/releases/download/glove-twitter-50/__init__.py',\n",
       "   'license': 'http://opendatacommons.org/licenses/pddl/',\n",
       "   'parameters': {'dimension': 50},\n",
       "   'description': 'Pre-trained vectors based on 2B tweets, 27B tokens, 1.2M vocab, uncased (https://nlp.stanford.edu/projects/glove/)',\n",
       "   'preprocessing': 'Converted to w2v format with `python -m gensim.scripts.glove2word2vec -i <fname> -o glove-twitter-50.txt`.',\n",
       "   'read_more': ['https://nlp.stanford.edu/projects/glove/',\n",
       "    'https://nlp.stanford.edu/pubs/glove.pdf'],\n",
       "   'checksum': 'c168f18641f8c8a00fe30984c4799b2b',\n",
       "   'file_name': 'glove-twitter-50.gz',\n",
       "   'parts': 1},\n",
       "  'glove-twitter-100': {'num_records': 1193514,\n",
       "   'file_size': 405932991,\n",
       "   'base_dataset': 'Twitter (2B tweets, 27B tokens, 1.2M vocab, uncased)',\n",
       "   'reader_code': 'https://github.com/RaRe-Technologies/gensim-data/releases/download/glove-twitter-100/__init__.py',\n",
       "   'license': 'http://opendatacommons.org/licenses/pddl/',\n",
       "   'parameters': {'dimension': 100},\n",
       "   'description': 'Pre-trained vectors based on  2B tweets, 27B tokens, 1.2M vocab, uncased (https://nlp.stanford.edu/projects/glove/)',\n",
       "   'preprocessing': 'Converted to w2v format with `python -m gensim.scripts.glove2word2vec -i <fname> -o glove-twitter-100.txt`.',\n",
       "   'read_more': ['https://nlp.stanford.edu/projects/glove/',\n",
       "    'https://nlp.stanford.edu/pubs/glove.pdf'],\n",
       "   'checksum': 'b04f7bed38756d64cf55b58ce7e97b15',\n",
       "   'file_name': 'glove-twitter-100.gz',\n",
       "   'parts': 1},\n",
       "  'glove-twitter-200': {'num_records': 1193514,\n",
       "   'file_size': 795373100,\n",
       "   'base_dataset': 'Twitter (2B tweets, 27B tokens, 1.2M vocab, uncased)',\n",
       "   'reader_code': 'https://github.com/RaRe-Technologies/gensim-data/releases/download/glove-twitter-200/__init__.py',\n",
       "   'license': 'http://opendatacommons.org/licenses/pddl/',\n",
       "   'parameters': {'dimension': 200},\n",
       "   'description': 'Pre-trained vectors based on 2B tweets, 27B tokens, 1.2M vocab, uncased (https://nlp.stanford.edu/projects/glove/).',\n",
       "   'preprocessing': 'Converted to w2v format with `python -m gensim.scripts.glove2word2vec -i <fname> -o glove-twitter-200.txt`.',\n",
       "   'read_more': ['https://nlp.stanford.edu/projects/glove/',\n",
       "    'https://nlp.stanford.edu/pubs/glove.pdf'],\n",
       "   'checksum': 'e52e8392d1860b95d5308a525817d8f9',\n",
       "   'file_name': 'glove-twitter-200.gz',\n",
       "   'parts': 1},\n",
       "  '__testing_word2vec-matrix-synopsis': {'description': '[THIS IS ONLY FOR TESTING] Word vecrors of the movie matrix.',\n",
       "   'parameters': {'dimensions': 50},\n",
       "   'preprocessing': 'Converted to w2v using a preprocessed corpus. Converted to w2v format with `python3.5 -m gensim.models.word2vec -train <input_filename> -iter 50 -output <output_filename>`.',\n",
       "   'read_more': [],\n",
       "   'checksum': '534dcb8b56a360977a269b7bfc62d124',\n",
       "   'file_name': '__testing_word2vec-matrix-synopsis.gz',\n",
       "   'parts': 1}}}"
      ]
     },
     "execution_count": 5,
     "metadata": {},
     "output_type": "execute_result"
    }
   ],
   "source": [
    "import gensim.downloader as api\n",
    "api.info()"
   ]
  },
  {
   "cell_type": "code",
   "execution_count": 10,
   "metadata": {},
   "outputs": [
    {
     "data": {
      "text/plain": [
       "[('dog', 0.9590819478034973),\n",
       " ('monkey', 0.9203578233718872),\n",
       " ('bear', 0.9143137335777283),\n",
       " ('pet', 0.9108031392097473),\n",
       " ('girl', 0.8880630135536194),\n",
       " ('horse', 0.8872727155685425),\n",
       " ('kitty', 0.8870542049407959),\n",
       " ('puppy', 0.886769711971283),\n",
       " ('hot', 0.8865255117416382),\n",
       " ('lady', 0.8845518827438354)]"
      ]
     },
     "execution_count": 10,
     "metadata": {},
     "output_type": "execute_result"
    }
   ],
   "source": [
    "model = api.load(\"glove-twitter-25\")  # load glove vectors\n",
    "model.most_similar(\"cat\")  # show words that similar to word '"
   ]
  },
  {
   "cell_type": "code",
   "execution_count": 66,
   "metadata": {},
   "outputs": [
    {
     "name": "stdout",
     "output_type": "stream",
     "text": [
      "<user>\n",
      ".\n",
      ":\n",
      "rt\n",
      ",\n",
      "<repeat>\n",
      "<hashtag>\n",
      "<number>\n",
      "<url>\n",
      "!\n",
      "i\n",
      "a\n",
      "\"\n",
      "the\n",
      "?\n"
     ]
    }
   ],
   "source": [
    "count = 0\n",
    "max_count = 15\n",
    "for term in model.vocab:\n",
    "    print(term)\n",
    "#     print(model[term])\n",
    "    count += 1\n",
    "    if count >= max_count: break"
   ]
  },
  {
   "cell_type": "markdown",
   "metadata": {},
   "source": [
    "## Using Embeddings "
   ]
  },
  {
   "cell_type": "code",
   "execution_count": 42,
   "metadata": {},
   "outputs": [],
   "source": [
    "import re\n",
    "import os\n",
    "import torch\n",
    "import spacy\n",
    "import pandas as pd\n",
    "import numpy as np\n",
    "import matplotlib.pyplot as plt\n",
    "import seaborn as sns\n",
    "import torchtext\n",
    "import torch\n",
    "import torch.nn as nn\n",
    "import torch.nn.functional as F\n",
    "import torch.optim as optim\n",
    "\n",
    "from torchtext import vocab\n",
    "from torchtext.data import Field, BucketIterator, TabularDataset, BPTTIterator\n",
    "from download_files import download_from_url\n",
    "from tqdm import tqdm, tqdm_notebook, tnrange\n",
    "tqdm.pandas(desc='Progress')\n",
    "from sklearn.model_selection import train_test_split\n",
    "from collections import Counter"
   ]
  },
  {
   "cell_type": "code",
   "execution_count": 13,
   "metadata": {},
   "outputs": [
    {
     "data": {
      "text/html": [
       "<div>\n",
       "<style scoped>\n",
       "    .dataframe tbody tr th:only-of-type {\n",
       "        vertical-align: middle;\n",
       "    }\n",
       "\n",
       "    .dataframe tbody tr th {\n",
       "        vertical-align: top;\n",
       "    }\n",
       "\n",
       "    .dataframe thead th {\n",
       "        text-align: right;\n",
       "    }\n",
       "</style>\n",
       "<table border=\"1\" class=\"dataframe\">\n",
       "  <thead>\n",
       "    <tr style=\"text-align: right;\">\n",
       "      <th></th>\n",
       "      <th>category</th>\n",
       "      <th>title</th>\n",
       "    </tr>\n",
       "  </thead>\n",
       "  <tbody>\n",
       "    <tr>\n",
       "      <th>0</th>\n",
       "      <td>Business</td>\n",
       "      <td>Wall St. Bears Claw Back Into the Black (Reuters)</td>\n",
       "    </tr>\n",
       "    <tr>\n",
       "      <th>1</th>\n",
       "      <td>Business</td>\n",
       "      <td>Carlyle Looks Toward Commercial Aerospace (Reu...</td>\n",
       "    </tr>\n",
       "    <tr>\n",
       "      <th>2</th>\n",
       "      <td>Business</td>\n",
       "      <td>Oil and Economy Cloud Stocks' Outlook (Reuters)</td>\n",
       "    </tr>\n",
       "    <tr>\n",
       "      <th>3</th>\n",
       "      <td>Business</td>\n",
       "      <td>Iraq Halts Oil Exports from Main Southern Pipe...</td>\n",
       "    </tr>\n",
       "    <tr>\n",
       "      <th>4</th>\n",
       "      <td>Business</td>\n",
       "      <td>Oil prices soar to all-time record, posing new...</td>\n",
       "    </tr>\n",
       "  </tbody>\n",
       "</table>\n",
       "</div>"
      ],
      "text/plain": [
       "   category                                              title\n",
       "0  Business  Wall St. Bears Claw Back Into the Black (Reuters)\n",
       "1  Business  Carlyle Looks Toward Commercial Aerospace (Reu...\n",
       "2  Business    Oil and Economy Cloud Stocks' Outlook (Reuters)\n",
       "3  Business  Iraq Halts Oil Exports from Main Southern Pipe...\n",
       "4  Business  Oil prices soar to all-time record, posing new..."
      ]
     },
     "execution_count": 13,
     "metadata": {},
     "output_type": "execute_result"
    }
   ],
   "source": [
    "file_name = '.data/news.csv'\n",
    "df = pd.read_csv(file_name, header=0)\n",
    "df.head()"
   ]
  },
  {
   "cell_type": "code",
   "execution_count": 14,
   "metadata": {},
   "outputs": [],
   "source": [
    "train, val = train_test_split(df, test_size=0.25)\n",
    "train.to_csv(\".data/train.csv\", index=False)\n",
    "val.to_csv(\".data/val.csv\", index=False)"
   ]
  },
  {
   "cell_type": "code",
   "execution_count": 15,
   "metadata": {},
   "outputs": [],
   "source": [
    "TEXT = Field(init_token='<s>', eos_token='</s>', lower=True, tokenize='spacy')\n",
    "LABEL = Field(pad_token=None, unk_token=None)\n",
    "\n",
    "data_fields = [('category', LABEL), ('title', TEXT)]\n",
    "\n",
    "train, val = TabularDataset.splits(path='.data/', train='train.csv', validation='val.csv', format='csv', skip_header=True, fields=data_fields)"
   ]
  },
  {
   "cell_type": "code",
   "execution_count": 16,
   "metadata": {},
   "outputs": [],
   "source": [
    "TEXT.build_vocab(train, val)\n",
    "LABEL.build_vocab(train, val)"
   ]
  },
  {
   "cell_type": "code",
   "execution_count": 17,
   "metadata": {},
   "outputs": [],
   "source": [
    "def make_embeddings_matrix(words):\n",
    "    embedding_dim = len(model[':'])\n",
    "    vocab_size = len(model.vocab)\n",
    "    embeddings = np.zeros((vocab_size, embedding_dim))\n",
    "    for i, word in enumerate(words):\n",
    "        if word in model.vocab:\n",
    "            embeddings[i, :] = model[word]\n",
    "        else:\n",
    "            embedding_i = torch.zeros(1, embedding_dim)\n",
    "            nn.init.xavier_uniform_(embedding_i)\n",
    "            embeddings[i, :] = embedding_i\n",
    "    return embeddings\n",
    "\n",
    "embeddings = make_embeddings_matrix(TEXT.vocab.itos)"
   ]
  },
  {
   "cell_type": "code",
   "execution_count": 18,
   "metadata": {},
   "outputs": [
    {
     "data": {
      "text/plain": [
       "(1193514, 25)"
      ]
     },
     "execution_count": 18,
     "metadata": {},
     "output_type": "execute_result"
    }
   ],
   "source": [
    "embeddings.shape"
   ]
  },
  {
   "cell_type": "code",
   "execution_count": 19,
   "metadata": {},
   "outputs": [],
   "source": [
    "traindl, valdl = BucketIterator.splits(datasets=(train, val), # specify train and validation Tabulardataset\n",
    "                                            batch_sizes=(32,32),  # batch size of train and validation\n",
    "                                            sort_key=lambda x: len(x.title), # on what attribute the text should be sorted\n",
    "                                            sort_within_batch=True, \n",
    "                                            repeat=False)"
   ]
  },
  {
   "cell_type": "code",
   "execution_count": 20,
   "metadata": {},
   "outputs": [],
   "source": [
    "class BatchGenerator:\n",
    "    def __init__(self, dl, x_field, y_field):\n",
    "        self.dl, self.x_field, self.y_field = dl, x_field, y_field\n",
    "        \n",
    "    def __len__(self):\n",
    "        return len(self.dl)\n",
    "    \n",
    "    def __iter__(self):\n",
    "        for batch in self.dl:\n",
    "            X = getattr(batch, self.x_field)\n",
    "            y = getattr(batch, self.y_field)\n",
    "            yield (X,y)"
   ]
  },
  {
   "cell_type": "code",
   "execution_count": 21,
   "metadata": {},
   "outputs": [
    {
     "name": "stdout",
     "output_type": "stream",
     "text": [
      "tensor([[3, 1, 0, 1, 3, 0, 0, 3, 2, 0, 0, 2, 0, 2, 1, 3, 0, 1, 1, 3, 0, 2, 0, 2,\n",
      "         0, 3, 1, 0, 1, 2, 1, 2]])\n"
     ]
    }
   ],
   "source": [
    "train_batch_it = BatchGenerator(traindl, 'category', 'title')\n",
    "print(next(iter(train_batch_it))[0])"
   ]
  },
  {
   "cell_type": "code",
   "execution_count": 22,
   "metadata": {},
   "outputs": [
    {
     "name": "stdout",
     "output_type": "stream",
     "text": [
      "tensor([[    2,     2,     2,     2,     2,     2,     2,     2,     2,     2,\n",
      "             2,     2,     2,     2,     2,     2,     2,     2,     2,     2,\n",
      "             2,     2,     2,     2,     2,     2,     2,     2,     2,     2,\n",
      "             2,     2],\n",
      "        [  465,  2921,   100,  4606,  2101,   749,  4190,   536,  6746,  2008,\n",
      "         22176,  2055,   565,   962,   339,    47,    36,   756,    59,   339,\n",
      "            86,  1660,    24,  1592, 10291,  1146,   175,  5357,   117,  5589,\n",
      "            80,  4386],\n",
      "        [   36,     8,   719,     8, 20990,  2285,   879,     9,   777,  1521,\n",
      "            12,    14,   179,   135,  1085,     4,  4395,  4453,    12,    10,\n",
      "             8, 33053,   399,  1948,  3432,  2906,    85, 12422,     5,  2038,\n",
      "          1366,  2243],\n",
      "        [ 1520,  4325,  2295,  6624,    27,   551,  2806,   518,    12,  7298,\n",
      "          2027,  4371,   616, 16838,   238,   325,  1234,    17,  1551,    18,\n",
      "           169, 10450,     8,     4,   118,   378,     4,  5587,  6295,    13,\n",
      "           109, 18132],\n",
      "        [  920,   539,    12,   998,   307,  1134,  9334,     4, 20141,    13,\n",
      "         34380,     9,    12,   680,  2448,   218,  8470,  3160,  1643,  8204,\n",
      "           391,     8,   733,  3018,     9,    98,  1977,   119,   141,    29,\n",
      "             9,  6804],\n",
      "        [ 6495,     4,   139,    11,    14,   499, 12970,   115,  1846,   563,\n",
      "             4, 21983,    19,    44,  3218,  2289,     8,    14,    84,  1231,\n",
      "            64,  4186,  1955,    47,   595,     4,    25,   421,     4,    10,\n",
      "           123,  1370],\n",
      "        [   19,  1011, 19769, 15393, 19685,   220,   477,    70,  2455,    52,\n",
      "          5615,   156,   452,  2691,   151,  3886,  8599,   579,   160,  7981,\n",
      "            13,   214,    14,  4681,   108,   395,   427,     9,   167,  2922,\n",
      "           677,   177],\n",
      "        [  990, 10062,  3322,     6,     9,     6,     6,    44,  1576,     6,\n",
      "          1129,  6730,   327,     6,     6,     6,  7851,    10,   199,     4,\n",
      "           627,    22,  1589,     6,    22,     5,     8,     5,     9,  6522,\n",
      "             6,    14],\n",
      "        [    5,  1173,    11,    16,  4618,    16,    21,  1482,    11,    16,\n",
      "            13,   478,    11,    16,    21,    16,   688,    18,  3344, 28001,\n",
      "          1420,    24,   109,    16,   409,  1529,   958,    23,   116,     9,\n",
      "            45,    25],\n",
      "        [ 1530,  1213,   297,     7,   665,     7,     7,    69,  4611,     7,\n",
      "          1734,  1161,  9842,     7,     7,     7,   115,  2661,  5500,  6125,\n",
      "          1240,    77,  1423,     7,  2127,   271,  3812,   202,   310,   282,\n",
      "             7,    36],\n",
      "        [    3,     3,     3,     3,     3,     3,     3,     3,     3,     3,\n",
      "             3,     3,     3,     3,     3,     3,     3,     3,     3,     3,\n",
      "             3,     3,     3,     3,     3,     3,     3,     3,     3,     3,\n",
      "             3,     3]])\n"
     ]
    }
   ],
   "source": [
    "print(next(iter(train_batch_it))[1])"
   ]
  },
  {
   "cell_type": "code",
   "execution_count": 69,
   "metadata": {},
   "outputs": [
    {
     "data": {
      "text/plain": [
       "torch.Size([7, 32])"
      ]
     },
     "execution_count": 69,
     "metadata": {},
     "output_type": "execute_result"
    }
   ],
   "source": [
    "temp = next(iter(train_batch_it))[1]\n",
    "temp.size()"
   ]
  },
  {
   "cell_type": "code",
   "execution_count": 73,
   "metadata": {},
   "outputs": [],
   "source": [
    "# pretrained_embeddings = torch.from_numpy(pretrained_embeddings).float()\n",
    "# embeddings = nn.Embedding(embedding_dim=embedding_dim, num_embeddings=num_embeddings, padding_idx=0, _weight=pretrained_embeddings)\n",
    "\n",
    "embedding_dim=25\n",
    "num_embeddings=1193514\n",
    "chennals = 100\n",
    "hidden_dim = 100\n",
    "classes = 4\n",
    "\n",
    "embeddings = nn.Embedding(embedding_dim=embedding_dim, num_embeddings=num_embeddings)"
   ]
  },
  {
   "cell_type": "code",
   "execution_count": 79,
   "metadata": {},
   "outputs": [
    {
     "data": {
      "text/plain": [
       "torch.Size([7, 32, 25])"
      ]
     },
     "execution_count": 79,
     "metadata": {},
     "output_type": "execute_result"
    }
   ],
   "source": [
    "output = embeddings(temp)\n",
    "output.size()"
   ]
  },
  {
   "cell_type": "code",
   "execution_count": 80,
   "metadata": {},
   "outputs": [
    {
     "data": {
      "text/plain": [
       "torch.Size([7, 25, 32])"
      ]
     },
     "execution_count": 80,
     "metadata": {},
     "output_type": "execute_result"
    }
   ],
   "source": [
    "output = output.transpose(1, 2)\n",
    "output.size()"
   ]
  },
  {
   "cell_type": "code",
   "execution_count": 87,
   "metadata": {},
   "outputs": [],
   "source": [
    "conv1 = nn.Conv1d(embedding_dim, chennals, kernel_size=2)\n",
    "conv2 = nn.Conv1d(embedding_dim, chennals, kernel_size=3)\n",
    "conv3 = nn.Conv1d(embedding_dim, chennals, kernel_size=4)"
   ]
  },
  {
   "cell_type": "code",
   "execution_count": 88,
   "metadata": {},
   "outputs": [
    {
     "data": {
      "text/plain": [
       "torch.Size([7, 100])"
      ]
     },
     "execution_count": 88,
     "metadata": {},
     "output_type": "execute_result"
    }
   ],
   "source": [
    "z1 = conv1(output)\n",
    "z1 = F.max_pool1d(z1, z1.size(2)).squeeze(2)\n",
    "z1.size()"
   ]
  },
  {
   "cell_type": "code",
   "execution_count": 89,
   "metadata": {},
   "outputs": [
    {
     "data": {
      "text/plain": [
       "torch.Size([7, 100])"
      ]
     },
     "execution_count": 89,
     "metadata": {},
     "output_type": "execute_result"
    }
   ],
   "source": [
    "z2 = conv3(output)\n",
    "z2 = F.max_pool1d(z2, z2.size(2)).squeeze(2)\n",
    "z2.size()"
   ]
  },
  {
   "cell_type": "code",
   "execution_count": 90,
   "metadata": {},
   "outputs": [
    {
     "data": {
      "text/plain": [
       "torch.Size([7, 100])"
      ]
     },
     "execution_count": 90,
     "metadata": {},
     "output_type": "execute_result"
    }
   ],
   "source": [
    "z3 = conv3(output)\n",
    "z3 = F.max_pool1d(z3, z3.size(2)).squeeze(2)\n",
    "z3.size()"
   ]
  },
  {
   "cell_type": "code",
   "execution_count": 92,
   "metadata": {},
   "outputs": [
    {
     "data": {
      "text/plain": [
       "torch.Size([7, 300])"
      ]
     },
     "execution_count": 92,
     "metadata": {},
     "output_type": "execute_result"
    }
   ],
   "source": [
    "z = torch.cat([z1, z2, z3], 1)\n",
    "z.size()"
   ]
  },
  {
   "cell_type": "code",
   "execution_count": 93,
   "metadata": {},
   "outputs": [],
   "source": [
    "dropout = nn.Dropout(0.3)\n",
    "z = dropout(z)"
   ]
  },
  {
   "cell_type": "code",
   "execution_count": 96,
   "metadata": {},
   "outputs": [
    {
     "data": {
      "text/plain": [
       "torch.Size([7, 100])"
      ]
     },
     "execution_count": 96,
     "metadata": {},
     "output_type": "execute_result"
    }
   ],
   "source": [
    "fc = nn.Linear( chennals * 3, hidden_dim)\n",
    "z = fc(z)\n",
    "z.size()"
   ]
  },
  {
   "cell_type": "markdown",
   "metadata": {},
   "source": [
    "## Phrase modeling"
   ]
  },
  {
   "cell_type": "markdown",
   "metadata": {
    "colab_type": "text",
    "id": "eypMhlOSXFWN"
   },
   "source": [
    "A simple and cheap way to calculate embedding of a phrase, when there are embeddingings of words - to average.\n",
    "\n",
    "So let's do this: tokenize and lower-case the phrase, average the embeddingings of the words for which they are counted.\n",
    "\n",
    "**Task** Write a function to count phrase embedding."
   ]
  },
  {
   "cell_type": "code",
   "execution_count": null,
   "metadata": {
    "colab": {},
    "colab_type": "code",
    "id": "F76HGRGDEPVq"
   },
   "outputs": [],
   "source": [
    "def get_phrase_embedding(model, phrase):    \n",
    "    vector = np.zeros([model.vector_size], dtype='float32')\n",
    "    \n",
    "    <write me>\n",
    "    \n",
    "    return vector"
   ]
  },
  {
   "cell_type": "code",
   "execution_count": null,
   "metadata": {
    "colab": {},
    "colab_type": "code",
    "id": "i12XsqnIXfko"
   },
   "outputs": [],
   "source": [
    "vector = get_phrase_embedding(model, \"I'm very sure. This never happened to me before...\")\n",
    "\n",
    "assert np.allclose(vector[::10],\n",
    "                   np.array([ 0.30757686, -0.05861897,  0.143751  , -0.11104885, -0.96929336,\n",
    "                             -0.21928601,  0.21652265,  0.14978765,  1.4842536 ,  0.017826  ],\n",
    "                              dtype=np.float32))"
   ]
  },
  {
   "cell_type": "markdown",
   "metadata": {
    "colab_type": "text",
    "id": "Yl2nBZG0WAUx"
   },
   "source": [
    "\n",
    "Calculate the vector of all phrases."
   ]
  },
  {
   "cell_type": "code",
   "execution_count": null,
   "metadata": {
    "colab": {},
    "colab_type": "code",
    "id": "40LezFEJFwv3"
   },
   "outputs": [],
   "source": [
    "text_vectors = np.array([get_phrase_embedding(model, phrase) for phrase in tokenized_texts])"
   ]
  },
  {
   "cell_type": "markdown",
   "metadata": {
    "colab_type": "text",
    "id": "nBj8XMZvWFTv"
   },
   "source": [
    "And learn to look for coming!\n",
    "\n",
    "**Assignment** Find the closest questions to it by line."
   ]
  },
  {
   "cell_type": "code",
   "execution_count": null,
   "metadata": {
    "colab": {},
    "colab_type": "code",
    "id": "fjw7kTQ-FP11"
   },
   "outputs": [],
   "source": [
    "from sklearn.metrics.pairwise import cosine_similarity\n",
    "\n",
    "def find_nearest(model, text_vectors, texts, query, k=10):\n",
    "    <write me, please>"
   ]
  },
  {
   "cell_type": "code",
   "execution_count": null,
   "metadata": {
    "colab": {},
    "colab_type": "code",
    "id": "c2yK0twNGWaQ"
   },
   "outputs": [],
   "source": [
    "results = find_nearest(model, text_vectors, texts, query=\"How do i enter the matrix?\", k=10)\n",
    "\n",
    "print('\\n'.join(results))\n",
    "\n",
    "assert len(results) == 10 and isinstance(results[0], str)\n",
    "assert results[1] == 'How do I get to the dark web?'\n",
    "assert results[4] == 'What can I do to save the world?'"
   ]
  },
  {
   "cell_type": "code",
   "execution_count": null,
   "metadata": {
    "colab": {},
    "colab_type": "code",
    "id": "AutTfxbDGhku"
   },
   "outputs": [],
   "source": [
    "find_nearest(model, text_vectors, texts, query=\"How does Trump?\", k=10)"
   ]
  },
  {
   "cell_type": "code",
   "execution_count": null,
   "metadata": {
    "colab": {},
    "colab_type": "code",
    "id": "47Ff7heKGiGV"
   },
   "outputs": [],
   "source": [
    "find_nearest(model, text_vectors, texts, query=\"Why don't i ask a question myself?\", k=10)"
   ]
  },
  {
   "cell_type": "markdown",
   "metadata": {
    "colab_type": "text",
    "id": "5BhDEF11ZnTY"
   },
   "source": [
    "## Begin the classification"
   ]
  },
  {
   "cell_type": "markdown",
   "metadata": {
    "colab_type": "text",
    "id": "2D_LEV8cm0z3"
   },
   "source": [
    "### Bag-of-words"
   ]
  },
  {
   "cell_type": "markdown",
   "metadata": {
    "colab_type": "text",
    "id": "jGge73gDid99"
   },
   "source": [
    "**Task** Let's collect tokens for the beginning."
   ]
  },
  {
   "cell_type": "code",
   "execution_count": null,
   "metadata": {
    "colab": {},
    "colab_type": "code",
    "id": "FJTjqdgiih7O"
   },
   "outputs": [],
   "source": [
    "tokenized_question1 = ...\n",
    "tokenized_question2 = ..."
   ]
  },
  {
   "cell_type": "markdown",
   "metadata": {
    "colab_type": "text",
    "id": "0VBcipE7Ztkc"
   },
   "source": [
    "**Task** Calculate cosine proximity between questions.\n",
    "\n",
    "The easiest way is to implement the function of its calculation by hand:\n",
    "\n",
    "$$\\text{cosine_similarity}(x, y) = \\frac{x^{T} y}{||x||\\cdot ||y||}$$"
   ]
  },
  {
   "cell_type": "code",
   "execution_count": null,
   "metadata": {
    "colab": {},
    "colab_type": "code",
    "id": "ItJLR_ENHGtI"
   },
   "outputs": [],
   "source": [
    "<do smth>\n",
    "\n",
    "cosine_similarities = <and calc the result>"
   ]
  },
  {
   "cell_type": "markdown",
   "metadata": {
    "colab_type": "text",
    "id": "NgCVueJ4Z3DQ"
   },
   "source": [
    "We select the proximity threshold at which we will consider the texts to be the same.\n",
    "\n",
    "**Task** Implement the `accuracy` function that calculates the accuracy of the classification at a given threshold."
   ]
  },
  {
   "cell_type": "code",
   "execution_count": null,
   "metadata": {
    "colab": {},
    "colab_type": "code",
    "id": "41hRIb-KSA3F"
   },
   "outputs": [],
   "source": [
    "import matplotlib.pyplot as plt\n",
    "%matplotlib inline\n",
    "\n",
    "def accuracy(cosine_similarities, threshold):\n",
    "    return <accuracy>\n",
    "\n",
    "thresholds = np.linspace(0, 1, 100, endpoint=False)\n",
    "plt.plot(thresholds, [accuracy(cosine_similarities, th) for th in thresholds])"
   ]
  },
  {
   "cell_type": "markdown",
   "metadata": {
    "colab_type": "text",
    "id": "kOxJSE38msmX"
   },
   "source": [
    "And run the optimization:"
   ]
  },
  {
   "cell_type": "code",
   "execution_count": null,
   "metadata": {
    "colab": {},
    "colab_type": "code",
    "id": "R3LVCJwqSgZz"
   },
   "outputs": [],
   "source": [
    "from scipy.optimize import minimize_scalar\n",
    "\n",
    "res = minimize_scalar(lambda x: -accuracy(cosine_similarities, x), bounds=(0.5, 0.99), method='bounded')\n",
    "best_threshold = res.x\n",
    "print('Threshold = {:.5f}, Accuracy = {:.2%}'.format(best_threshold, accuracy(cosine_similarities, best_threshold)))"
   ]
  },
  {
   "cell_type": "markdown",
   "metadata": {
    "colab_type": "text",
    "id": "H8yFlaffm34A"
   },
   "source": [
    "### Tf-idf weights"
   ]
  },
  {
   "cell_type": "markdown",
   "metadata": {
    "colab_type": "text",
    "id": "-cpeSa-4m64H"
   },
   "source": [
    "Instead of stupidly averaging the vectors, you can average them based on the weights - the familiar tf-idf will help in this.\n",
    "\n",
    "** Task ** Calculate weighted vector of questions. Use `TfidfVectorizer`\n",
    "\n",
    "`TfidfVectorizer` returns the matrix` (samples_count, words_count) `. And our embeddings have the dimension `(words_count, embedding_dim)`. So you can just multiply them. Then each phrase - the sequence of words $ w_1, \\ ldots, w_k $ - is transformed into the vector $ \\ sum_i \\ text {idf} (w_i) \\ cdot \\ text {embedding} (w_i) $. This vector should probably be normalized to the number of words $ k $.\n",
    "\n",
    "** Task ** In addition to tf-idf, you can add filtering of stop words and punctuation.\n",
    "Stop words can be taken from `nltk`:\n",
    "\n",
    "```python\n",
    "from nltk.corpus import stopwords\n",
    "stop_words = stopwords.words('english')\n",
    "```"
   ]
  },
  {
   "cell_type": "code",
   "execution_count": null,
   "metadata": {
    "colab": {},
    "colab_type": "code",
    "id": "UoYjVExHd_OC"
   },
   "outputs": [],
   "source": [
    "import re\n",
    "from sklearn.feature_extraction.text import TfidfVectorizer\n",
    "from nltk.corpus import stopwords\n",
    "from string import punctuation\n",
    "\n",
    "<calculate tf-idf weighted vectors>"
   ]
  },
  {
   "cell_type": "markdown",
   "metadata": {
    "colab_type": "text",
    "id": "34Di8jXxoBxg"
   },
   "source": [
    "Посмотрим, что получается после фильтрации и векторизации:"
   ]
  },
  {
   "cell_type": "code",
   "execution_count": null,
   "metadata": {
    "colab": {},
    "colab_type": "code",
    "id": "k52NtVJKf1Wl"
   },
   "outputs": [],
   "source": [
    "for col in tfidf_question1[0].tocoo().col:\n",
    "    print(model.index2word[col], end=' ')\n",
    "\n",
    "print('\\n' + ' '.join(tokenized_question1[0]))"
   ]
  },
  {
   "cell_type": "markdown",
   "metadata": {
    "colab_type": "text",
    "id": "3fMqY5tOoL9r"
   },
   "source": [
    "**Task** Calculate quality with new vectors."
   ]
  },
  {
   "cell_type": "code",
   "execution_count": null,
   "metadata": {
    "colab": {},
    "colab_type": "code",
    "id": "Chf2qy7uhbPF"
   },
   "outputs": [],
   "source": [
    "cosine_similarities = <calc it somehow>\n",
    "\n",
    "res = minimize_scalar(lambda x: -accuracy(cosine_similarities, x), bounds=(0.8, 0.99), method='bounded')\n",
    "best_threshold = res.x\n",
    "print('Threshold = {:.5f}, Accuracy = {:.2%}'.format(best_threshold, accuracy(cosine_similarities, best_threshold)))"
   ]
  },
  {
   "cell_type": "markdown",
   "metadata": {
    "colab_type": "text",
    "id": "qXi24B78sbsg"
   },
   "source": [
    "## Let's look inside learning word embeddings"
   ]
  },
  {
   "cell_type": "markdown",
   "metadata": {
    "colab_type": "text",
    "id": "6GSDgSXfswp7"
   },
   "source": [
    "The key idea is that a word can be defined by the context in which it occurs:\n",
    "![contexts](https://image.ibb.co/mnQ2uz/2018_09_17_21_07_08.png)\n",
    "*From [cs224n, Lecture 2](http://web.stanford.edu/class/cs224n/lectures/lecture2.pdf)*\n",
    "\n",
    "Watch how everything learns, we will be here: [https://ronxin.github.io/wevi/](https://ronxin.github.io/wevi/)."
   ]
  },
  {
   "cell_type": "markdown",
   "metadata": {
    "colab_type": "text",
    "id": "xvqrFUS6vVhh"
   },
   "source": [
    "## Got a word by word machine translation!"
   ]
  },
  {
   "cell_type": "code",
   "execution_count": null,
   "metadata": {
    "colab": {},
    "colab_type": "code",
    "id": "1CXcr-ypzGXg"
   },
   "outputs": [],
   "source": [
    "!wget -O ukr_rus.train.txt -qq --no-check-certificate \"https://drive.google.com/uc?export=download&id=1vAK0SWXUqei4zTimMvIhH3ufGPsbnC_O\"\n",
    "!wget -O ukr_rus.test.txt -qq --no-check-certificate \"https://drive.google.com/uc?export=download&id=1W9R2F8OeKHXruo2sicZ6FgBJUTJc8Us_\"\n",
    "!wget -O fairy_tale.txt -qq --no-check-certificate \"https://drive.google.com/uc?export=download&id=1sq8zSroFeg_afw-60OmY8RATdu_T1tej\"\n",
    "\n",
    "# Install the PyDrive wrapper & import libraries.\n",
    "# This only needs to be done once per notebook.\n",
    "!pip install -U -q PyDrive\n",
    "from pydrive.auth import GoogleAuth\n",
    "from pydrive.drive import GoogleDrive\n",
    "from google.colab import auth\n",
    "from oauth2client.client import GoogleCredentials\n",
    "\n",
    "# Authenticate and create the PyDrive client.\n",
    "# This only needs to be done once per notebook.\n",
    "auth.authenticate_user()\n",
    "gauth = GoogleAuth()\n",
    "gauth.credentials = GoogleCredentials.get_application_default()\n",
    "drive = GoogleDrive(gauth)\n",
    "\n",
    "downloaded = drive.CreateFile({'id': '1d7OXuil646jUeDS1JNhP9XWlZogv6rbu'})\n",
    "downloaded.GetContentFile('cc.ru.300.vec.zip')\n",
    "\n",
    "downloaded = drive.CreateFile({'id': '1yAqwqgUHtMSfGS99WLGe5unSCyIXfIxi'})\n",
    "downloaded.GetContentFile('cc.uk.300.vec.zip')\n",
    "\n",
    "!unzip cc.ru.300.vec.zip\n",
    "!unzip cc.uk.300.vec.zip"
   ]
  },
  {
   "cell_type": "markdown",
   "metadata": {
    "colab_type": "text",
    "id": "7RqUeOXxws8y"
   },
   "source": [
    "\n",
    "Let's write a simple implementation of the machine translation model.\n",
    "\n",
    "The idea is based on the article [Word Translation Without Parallel Data] (https://arxiv.org/pdf/1710.04087.pdf). The authors in the repository have a lot more interesting: [https://github.com/facebookresearch/MUSE_ ((https://github.com/facebookresearch/MUSE)\n",
    "\n",
    "And we will translate from Ukrainian to Russian.\n",
    "\n",
    "! [] (https://raw.githubusercontent.com/yandexdataschool/nlp_course/master/resources/blue_cat_blue_whale.png)\n",
    "\n",
    "*blue kit* vs. *blue kit*"
   ]
  },
  {
   "cell_type": "code",
   "execution_count": null,
   "metadata": {
    "colab": {},
    "colab_type": "code",
    "id": "jjPj9FTRry0U"
   },
   "outputs": [],
   "source": [
    "from gensim.models import KeyedVectors\n",
    "\n",
    "ru_emb = KeyedVectors.load_word2vec_format(\"cc.ru.300.vec\")\n",
    "uk_emb = KeyedVectors.load_word2vec_format(\"cc.uk.300.vec\")"
   ]
  },
  {
   "cell_type": "markdown",
   "metadata": {
    "colab_type": "text",
    "id": "7rGx4TXWFJ65"
   },
   "source": [
    "\n",
    "Look at a couple of serpeni-august (being a translation)"
   ]
  },
  {
   "cell_type": "code",
   "execution_count": null,
   "metadata": {
    "colab": {},
    "colab_type": "code",
    "id": "FkHer36xyh4n"
   },
   "outputs": [],
   "source": [
    "ru_emb.most_similar([ru_emb[\"август\"]])"
   ]
  },
  {
   "cell_type": "code",
   "execution_count": null,
   "metadata": {
    "colab": {},
    "colab_type": "code",
    "id": "1RSDixWvylEP"
   },
   "outputs": [],
   "source": [
    "uk_emb.most_similar([uk_emb[\"серпень\"]])"
   ]
  },
  {
   "cell_type": "code",
   "execution_count": null,
   "metadata": {
    "colab": {},
    "colab_type": "code",
    "id": "iwmm3YQ1yl1U"
   },
   "outputs": [],
   "source": [
    "ru_emb.most_similar([uk_emb[\"серпень\"]])"
   ]
  },
  {
   "cell_type": "code",
   "execution_count": null,
   "metadata": {
    "colab": {},
    "colab_type": "code",
    "id": "lAsW7oxszE_I"
   },
   "outputs": [],
   "source": [
    "def load_word_pairs(filename):\n",
    "    uk_ru_pairs = []\n",
    "    uk_vectors = []\n",
    "    ru_vectors = []\n",
    "    with open(filename, \"r\", encoding='utf8') as inpf:\n",
    "        for line in inpf:\n",
    "            uk, ru = line.rstrip().split(\"\\t\")\n",
    "            if uk not in uk_emb or ru not in ru_emb:\n",
    "                continue\n",
    "            uk_ru_pairs.append((uk, ru))\n",
    "            uk_vectors.append(uk_emb[uk])\n",
    "            ru_vectors.append(ru_emb[ru])\n",
    "    return uk_ru_pairs, np.array(uk_vectors), np.array(ru_vectors)\n",
    "\n",
    "\n",
    "uk_ru_train, X_train, Y_train = load_word_pairs(\"ukr_rus.train.txt\")\n",
    "uk_ru_test, X_test, Y_test = load_word_pairs(\"ukr_rus.test.txt\")"
   ]
  },
  {
   "cell_type": "markdown",
   "metadata": {
    "colab_type": "text",
    "id": "9z6ts7DC0XmN"
   },
   "source": [
    "### We learn mapping from one space to another\n",
    "\n",
    "We have pairs of words that match each other, and their embedding. Let's find a transformation from one space to another, in order to bring the words we know to us:\n",
    "\n",
    "$$W^*= \\arg\\min_W ||WX - Y||_F, \\text{где} ||*||_F - \\text{норма Фробениуса}$$\n",
    "\n",
    "This function is very similar to linear regression (without bias).\n",
    "\n",
    "**Task** Implement it - use `LinearRegression` from sklearn with` fit_intercept = False`:"
   ]
  },
  {
   "cell_type": "code",
   "execution_count": null,
   "metadata": {
    "colab": {},
    "colab_type": "code",
    "id": "fraTOQtu1YWI"
   },
   "outputs": [],
   "source": [
    "mapping = ..."
   ]
  },
  {
   "cell_type": "markdown",
   "metadata": {
    "colab_type": "text",
    "id": "PrzRk3ja1b_6"
   },
   "source": [
    "Check where the serpen will go:"
   ]
  },
  {
   "cell_type": "code",
   "execution_count": null,
   "metadata": {
    "colab": {},
    "colab_type": "code",
    "id": "Quax6HnF1aON"
   },
   "outputs": [],
   "source": [
    "august = mapping.predict(uk_emb[\"серпень\"].reshape(1, -1))\n",
    "ru_emb.most_similar(august)"
   ]
  },
  {
   "cell_type": "markdown",
   "metadata": {
    "colab_type": "text",
    "id": "ih1GLNZt1nZX"
   },
   "source": [
    "It should turn out that the top contains different months, but August is not the first.\n",
    "\n",
    "We will measure percision top-k with k = 1, 5, 10.\n",
    "\n",
    "**Task** Implement the following function:"
   ]
  },
  {
   "cell_type": "code",
   "execution_count": null,
   "metadata": {
    "colab": {},
    "colab_type": "code",
    "id": "JnmrLp9y2gNI"
   },
   "outputs": [],
   "source": [
    "def precision(pairs, mapped_vectors, topn=1):\n",
    "    \"\"\"\n",
    "    :args:\n",
    "        pairs = list of right word pairs [(uk_word_0, ru_word_0), ...]\n",
    "        mapped_vectors = list of embeddings after mapping from source embedding space to destination embedding space\n",
    "        topn = the number of nearest neighbours in destination embedding space to choose from\n",
    "    :returns:\n",
    "        precision_val, float number, total number of words for those we can find right translation at top K.\n",
    "    \"\"\"\n",
    "    assert len(pairs) == len(ru_vectors)\n",
    "    num_matches = 0\n",
    "    for i, (_, ru) in enumerate(pairs):\n",
    "        <write code here>\n",
    "    precision_val = num_matches / len(pairs)\n",
    "    return precision_val"
   ]
  },
  {
   "cell_type": "code",
   "execution_count": null,
   "metadata": {
    "colab": {},
    "colab_type": "code",
    "id": "-1NIvhSH2olG"
   },
   "outputs": [],
   "source": [
    "assert precision([(\"серпень\", \"август\")], august, topn=5) == 0.0\n",
    "assert precision([(\"серпень\", \"август\")], august, topn=9) == 1.0\n",
    "assert precision([(\"серпень\", \"август\")], august, topn=10) == 1.0"
   ]
  },
  {
   "cell_type": "code",
   "execution_count": null,
   "metadata": {
    "colab": {},
    "colab_type": "code",
    "id": "9Ml_w1Tl2r7Y"
   },
   "outputs": [],
   "source": [
    "assert precision(uk_ru_test, X_test) == 0.0\n",
    "assert precision(uk_ru_test, Y_test) == 1.0"
   ]
  },
  {
   "cell_type": "code",
   "execution_count": null,
   "metadata": {
    "colab": {},
    "colab_type": "code",
    "id": "-d9KQHMr2tx8"
   },
   "outputs": [],
   "source": [
    "precision_top1 = precision(uk_ru_test, mapping.predict(X_test), 1)\n",
    "precision_top5 = precision(uk_ru_test, mapping.predict(X_test), 5)\n",
    "\n",
    "assert precision_top1 >= 0.635\n",
    "assert precision_top5 >= 0.813"
   ]
  },
  {
   "cell_type": "markdown",
   "metadata": {
    "colab_type": "text",
    "id": "JNbDTP502urT"
   },
   "source": [
    "### Improving mapping\n",
    "\n",
    "It can be shown that mapping is better to build orthogonal:\n",
    "$$W^*= \\arg\\min_W ||WX - Y||_F \\text{, где: } W^TW = I$$\n",
    "\n",
    "SVD:\n",
    "$$X^TY=U\\Sigma V^T\\text{, singular value decompostion}$$\n",
    "\n",
    "$$W^*=UV^T$$\n",
    "\n",
    "**Task** Implement this feature."
   ]
  },
  {
   "cell_type": "code",
   "execution_count": null,
   "metadata": {
    "colab": {},
    "colab_type": "code",
    "id": "9de8XZ_F3v53"
   },
   "outputs": [],
   "source": [
    "def learn_transform(X_train, Y_train):\n",
    "    \"\"\" \n",
    "    :returns: W* : float matrix[emb_dim x emb_dim] as defined in formulae above\n",
    "    \"\"\"\n",
    "    <write code there>"
   ]
  },
  {
   "cell_type": "code",
   "execution_count": null,
   "metadata": {
    "colab": {},
    "colab_type": "code",
    "id": "8WeCadzN382y"
   },
   "outputs": [],
   "source": [
    "W = learn_transform(X_train, Y_train)"
   ]
  },
  {
   "cell_type": "code",
   "execution_count": null,
   "metadata": {
    "colab": {},
    "colab_type": "code",
    "id": "p6qaMb0E3-f9"
   },
   "outputs": [],
   "source": [
    "ru_emb.most_similar([np.matmul(uk_emb[\"серпень\"], W)])"
   ]
  },
  {
   "cell_type": "code",
   "execution_count": null,
   "metadata": {
    "colab": {},
    "colab_type": "code",
    "id": "_Nn58crh4AH0"
   },
   "outputs": [],
   "source": [
    "assert precision(uk_ru_test, np.matmul(X_test, W)) >= 0.653\n",
    "assert precision(uk_ru_test, np.matmul(X_test, W), 5) >= 0.824"
   ]
  },
  {
   "cell_type": "markdown",
   "metadata": {
    "colab_type": "text",
    "id": "lqgcYk-c4DE5"
   },
   "source": [
    "### We are writing a translator"
   ]
  },
  {
   "cell_type": "markdown",
   "metadata": {
    "colab_type": "text",
    "id": "hwi70fP6FaAN"
   },
   "source": [
    "\n",
    "We implement a simple word-for-word translator - for each word we will look for its nearest neighbor in the common embedding space. If the word is not in the inserts - just copy it."
   ]
  },
  {
   "cell_type": "code",
   "execution_count": null,
   "metadata": {
    "colab": {},
    "colab_type": "code",
    "id": "0etAHUks4JOr"
   },
   "outputs": [],
   "source": [
    "with open(\"fairy_tale.txt\", \"r\") as in f:\n",
    "    uk_sentences = [line.rstrip().lower() for line in in f]"
   ]
  },
  {
   "cell_type": "code",
   "execution_count": null,
   "metadata": {
    "colab": {},
    "colab_type": "code",
    "id": "JK_FJGmn4N7V"
   },
   "outputs": [],
   "source": [
    "def translate(sentence):\n",
    "    \"\"\"\n",
    "    :args:\n",
    "        sentence - sentence in Ukrainian (str)\n",
    "    :returns:\n",
    "        translation - sentence in Russian (str)\n",
    "\n",
    "    * find ukrainian embedding for each word in sentence\n",
    "    * transform ukrainian embedding vector\n",
    "    * find nearest russian word and replace\n",
    "    \"\"\"\n",
    "    <implement it!>"
   ]
  },
  {
   "cell_type": "code",
   "execution_count": null,
   "metadata": {
    "colab": {},
    "colab_type": "code",
    "id": "H47pbFyk4P6D"
   },
   "outputs": [],
   "source": [
    "assert translate(\".\") == \".\"\n",
    "assert translate(\"1 , 3\") == \"1 , 3\"\n",
    "assert translate(\"кіт зловив мишу\") == \"кот поймал мышку\""
   ]
  },
  {
   "cell_type": "code",
   "execution_count": null,
   "metadata": {
    "colab": {},
    "colab_type": "code",
    "id": "PAVWK7mE4RYU"
   },
   "outputs": [],
   "source": [
    "for sentence in uk_sentences:\n",
    "    print(\"src: {}\\ndst: {}\\n\".format(sentence, translate(sentence)))"
   ]
  },
  {
   "cell_type": "markdown",
   "metadata": {
    "colab_type": "text",
    "id": "HwffxpbmFwDh"
   },
   "source": [
    "## Referrence\n",
    "\n",
    "[On word embeddings - Part 1, Sebastian Ruder](http://ruder.io/word-embeddings-1/)  \n",
    "[Deep Learning, NLP, and Representations, Christopher Olah](http://colah.github.io/posts/2014-07-NLP-RNNs-Representations/)  \n",
    "[Making Sense of Word Embeddings (2016), Pelevina et al](http://anthology.aclweb.org/W16-1620)    \n",
    "[Evaluation methods for unsupervised word embeddings (2015), T. Schnabel](http://www.aclweb.org/anthology/D15-1036)  \n",
    "[Intrinsic Evaluation of Word Vectors Fails to Predict Extrinsic Performance (2016), B. Chiu](https://www.aclweb.org/anthology/W/W16/W16-2501.pdf)  \n",
    "[Problems With Evaluation of Word Embeddings Using Word Similarity Tasks (2016), M. Faruqui](https://arxiv.org/pdf/1605.02276.pdf)  \n",
    "[Improving Reliability of Word Similarity Evaluation by Redesigning Annotation Task and Performance Measure (2016), Oded Avraham, Yoav Goldberg](https://arxiv.org/pdf/1611.03641.pdf)  \n",
    "[Evaluating Word Embeddings Using a Representative Suite of Practical Tasks (2016), N. Nayak](https://cs.stanford.edu/~angeli/papers/2016-acl-veceval.pdf)  \n",
    "[Word Vector Representations: word2vec, Lecture 2, cs224n](https://www.youtube.com/watch?v=ERibwqs9p38)"
   ]
  },
  {
   "cell_type": "code",
   "execution_count": null,
   "metadata": {},
   "outputs": [],
   "source": []
  }
 ],
 "metadata": {
  "colab": {
   "collapsed_sections": [],
   "name": "Week 02 - Word Embeddings (Part 1).ipynb",
   "provenance": [],
   "version": "0.3.2"
  },
  "kernelspec": {
   "display_name": "Python 3 (ipykernel)",
   "language": "python",
   "name": "python3"
  },
  "language_info": {
   "codemirror_mode": {
    "name": "ipython",
    "version": 3
   },
   "file_extension": ".py",
   "mimetype": "text/x-python",
   "name": "python",
   "nbconvert_exporter": "python",
   "pygments_lexer": "ipython3",
   "version": "3.9.7"
  },
  "widgets": {
   "application/vnd.jupyter.widget-state+json": {
    "state": {},
    "version_major": 2,
    "version_minor": 0
   }
  }
 },
 "nbformat": 4,
 "nbformat_minor": 4
}
